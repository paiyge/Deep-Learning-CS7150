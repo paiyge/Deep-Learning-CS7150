{
  "nbformat": 4,
  "nbformat_minor": 0,
  "metadata": {
    "colab": {
      "provenance": []
    },
    "kernelspec": {
      "name": "python3",
      "display_name": "Python 3"
    },
    "language_info": {
      "name": "python"
    }
  },
  "cells": [
    {
      "cell_type": "code",
      "execution_count": 1,
      "metadata": {
        "colab": {
          "base_uri": "https://localhost:8080/"
        },
        "id": "nxIk_sYj_bGI",
        "outputId": "e36ff5f9-46b9-4644-a0f6-25b93472c839"
      },
      "outputs": [
        {
          "output_type": "stream",
          "name": "stdout",
          "text": [
            "Downloading data from https://storage.googleapis.com/tensorflow/tf-keras-datasets/mnist.npz\n",
            "11490434/11490434 [==============================] - 0s 0us/step\n"
          ]
        }
      ],
      "source": [
        "import matplotlib.pyplot as plt\n",
        "import tensorflow as tf\n",
        "import numpy as np\n",
        "\n",
        "mnist = tf.keras.datasets.mnist\n",
        "(x_train, y_train), (x_test, y_test) = mnist.load_data()"
      ]
    },
    {
      "cell_type": "code",
      "source": [
        "rows, cols = 28, 28\n",
        "\n",
        "# Reshape the data into a 4D Array\n",
        "x_train = x_train.reshape(x_train.shape[0], rows, cols, 1)\n",
        "x_test = x_test.reshape(x_test.shape[0], rows, cols, 1)\n",
        "\n",
        "input_shape = (rows,cols,1)\n",
        "\n",
        "# Set type as float32 and normalize the values to [0,1]\n",
        "x_train = x_train.astype('float32')\n",
        "x_test = x_test.astype('float32')\n",
        "x_train = x_train / 255.0\n",
        "x_test = x_test / 255.0\n",
        "\n",
        "# Transform labels to one hot encoding\n",
        "y_train = tf.keras.utils.to_categorical(y_train, 10)\n",
        "y_test = tf.keras.utils.to_categorical(y_test, 10)"
      ],
      "metadata": {
        "id": "n1N_S3-V_qFg"
      },
      "execution_count": 2,
      "outputs": []
    },
    {
      "cell_type": "code",
      "source": [
        "def build_lenet(input_shape):\n",
        "  # Define Sequential Model\n",
        "  model = tf.keras.Sequential()\n",
        "\n",
        "  # C1 Convolution Layer\n",
        "  model.add(tf.keras.layers.Conv2D(filters=6, strides=(1,1), kernel_size=(5,5), activation='tanh', input_shape=input_shape))\n",
        "\n",
        "  # S2 SubSampling Layer\n",
        "  model.add(tf.keras.layers.AveragePooling2D(pool_size=(2,2), strides=(2,2)))\n",
        "\n",
        "  # C3 Convolution Layer\n",
        "  model.add(tf.keras.layers.Conv2D(filters=6, strides=(1,1), kernel_size=(5,5), activation='tanh'))\n",
        "\n",
        "  # S4 SubSampling Layer\n",
        "  model.add(tf.keras.layers.AveragePooling2D(pool_size=(2,2), strides=(2,2)))\n",
        "\n",
        "  # C5 Fully Connected Layer\n",
        "  model.add(tf.keras.layers.Dense(units=120, activation='tanh'))\n",
        "\n",
        "  # Flatten the output so that we can connect it with the fully connected layers by converting it into a 1D Array\n",
        "  model.add(tf.keras.layers.Flatten())\n",
        "\n",
        "  # FC6 Fully Connected Layers\n",
        "  model.add(tf.keras.layers.Dense(units=84, activation='tanh'))\n",
        "\n",
        "  # Output Layer\n",
        "  model.add(tf.keras.layers.Dense(units=10, activation='softmax'))\n",
        "\n",
        "  # Compile the Model\n",
        "  model.compile(loss='categorical_crossentropy', optimizer=tf.keras.optimizers.legacy.SGD(lr=0.1, momentum=0.0, decay=0.0), metrics=['accuracy'])\n",
        "\n",
        "  return model"
      ],
      "metadata": {
        "id": "Xyyt5cv8_v6z"
      },
      "execution_count": 5,
      "outputs": []
    },
    {
      "cell_type": "code",
      "source": [
        "lenet = build_lenet(input_shape)\n",
        "\n",
        "# We will be allowing 10 itterations to happen\n",
        "epochs = 10\n",
        "history = lenet.fit(x_train, y_train, epochs=epochs,batch_size=128, verbose=1)\n",
        "\n",
        "# Check Accuracy of the Model\n",
        "loss ,acc= lenet.evaluate(x_test, y_test)\n",
        "print('Accuracy : ', acc)\n",
        "\n",
        "x_train = x_train.reshape(x_train.shape[0], 28,28)\n",
        "print('Training Data', x_train.shape, y_train.shape)\n",
        "x_test = x_test.reshape(x_test.shape[0], 28,28)\n",
        "print('Test Data', x_test.shape, y_test.shape)\n",
        "\n",
        "# Plot the Image\n",
        "image_index = 8888\n",
        "plt.imshow(x_test[image_index].reshape(28,28), cmap='Greys')\n",
        "\n",
        "# Make Prediction\n",
        "pred = lenet.predict(x_test[image_index].reshape(1, rows, cols, 1 ))\n",
        "print(pred.argmax())"
      ],
      "metadata": {
        "colab": {
          "base_uri": "https://localhost:8080/",
          "height": 930
        },
        "id": "-a5cdHhA_18g",
        "outputId": "bfa67694-186f-46f0-f163-8cd44da5fcbd"
      },
      "execution_count": 6,
      "outputs": [
        {
          "output_type": "stream",
          "name": "stderr",
          "text": [
            "/usr/local/lib/python3.10/dist-packages/keras/src/optimizers/legacy/gradient_descent.py:114: UserWarning: The `lr` argument is deprecated, use `learning_rate` instead.\n",
            "  super().__init__(name, **kwargs)\n"
          ]
        },
        {
          "output_type": "stream",
          "name": "stdout",
          "text": [
            "Epoch 1/10\n",
            "469/469 [==============================] - 22s 45ms/step - loss: 0.4221 - accuracy: 0.8833\n",
            "Epoch 2/10\n",
            "469/469 [==============================] - 20s 42ms/step - loss: 0.1679 - accuracy: 0.9507\n",
            "Epoch 3/10\n",
            "469/469 [==============================] - 21s 45ms/step - loss: 0.1172 - accuracy: 0.9655\n",
            "Epoch 4/10\n",
            "469/469 [==============================] - 20s 42ms/step - loss: 0.0926 - accuracy: 0.9715\n",
            "Epoch 5/10\n",
            "469/469 [==============================] - 21s 45ms/step - loss: 0.0784 - accuracy: 0.9762\n",
            "Epoch 6/10\n",
            "469/469 [==============================] - 20s 42ms/step - loss: 0.0691 - accuracy: 0.9795\n",
            "Epoch 7/10\n",
            "469/469 [==============================] - 21s 44ms/step - loss: 0.0623 - accuracy: 0.9812\n",
            "Epoch 8/10\n",
            "469/469 [==============================] - 20s 43ms/step - loss: 0.0567 - accuracy: 0.9831\n",
            "Epoch 9/10\n",
            "469/469 [==============================] - 20s 43ms/step - loss: 0.0524 - accuracy: 0.9849\n",
            "Epoch 10/10\n",
            "469/469 [==============================] - 21s 44ms/step - loss: 0.0488 - accuracy: 0.9854\n",
            "313/313 [==============================] - 2s 6ms/step - loss: 0.0499 - accuracy: 0.9824\n",
            "Accuracy :  0.9824000000953674\n",
            "Training Data (60000, 28, 28) (60000, 10)\n",
            "Test Data (10000, 28, 28) (10000, 10)\n",
            "1/1 [==============================] - 0s 130ms/step\n",
            "6\n"
          ]
        },
        {
          "output_type": "display_data",
          "data": {
            "text/plain": [
              "<Figure size 640x480 with 1 Axes>"
            ],
            "image/png": "[encoded data removed]"
          },
          "metadata": {}
        }
      ]
    }
  ]
}