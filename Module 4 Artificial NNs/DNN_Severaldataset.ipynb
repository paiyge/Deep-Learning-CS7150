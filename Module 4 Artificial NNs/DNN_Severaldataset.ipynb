{
  "cells": [
    {
      "cell_type": "markdown",
      "metadata": {
        "id": "piVRo7AhCtcb"
      },
      "source": [
        "## Classifying movie reviews: A binary classification example"
      ]
    },
    {
      "cell_type": "markdown",
      "metadata": {
        "id": "BqFNCPadCtcc"
      },
      "source": [
        "**Loading the IMDB dataset**"
      ]
    },
    {
      "cell_type": "code",
      "execution_count": null,
      "metadata": {
        "colab": {
          "base_uri": "https://localhost:8080/"
        },
        "id": "yGSxLTMrCtcc",
        "outputId": "277f40da-a049-4310-c553-b46e2c9fb192"
      },
      "outputs": [
        {
          "output_type": "stream",
          "name": "stdout",
          "text": [
            "Downloading data from https://storage.googleapis.com/tensorflow/tf-keras-datasets/imdb.npz\n",
            "17464789/17464789 [==============================] - 0s 0us/step\n"
          ]
        }
      ],
      "source": [
        "from tensorflow.keras.datasets import imdb\n",
        "(train_data, train_labels), (test_data, test_labels) = imdb.load_data(\n",
        "    num_words=10000)"
      ]
    },
    {
      "cell_type": "code",
      "execution_count": null,
      "metadata": {
        "colab": {
          "base_uri": "https://localhost:8080/"
        },
        "id": "q9JLDHetCtcc",
        "outputId": "d4c9c092-a142-4a60-9adc-dfaab587b72c"
      },
      "outputs": [
        {
          "output_type": "execute_result",
          "data": {
            "text/plain": [
              "[1,\n",
              " 14,\n",
              " 22,\n",
              " 16,\n",
              " 43,\n",
              " 530,\n",
              " 973,\n",
              " 1622,\n",
              " 1385,\n",
              " 65,\n",
              " 458,\n",
              " 4468,\n",
              " 66,\n",
              " 3941,\n",
              " 4,\n",
              " 173,\n",
              " 36,\n",
              " 256,\n",
              " 5,\n",
              " 25,\n",
              " 100,\n",
              " 43,\n",
              " 838,\n",
              " 112,\n",
              " 50,\n",
              " 670,\n",
              " 2,\n",
              " 9,\n",
              " 35,\n",
              " 480,\n",
              " 284,\n",
              " 5,\n",
              " 150,\n",
              " 4,\n",
              " 172,\n",
              " 112,\n",
              " 167,\n",
              " 2,\n",
              " 336,\n",
              " 385,\n",
              " 39,\n",
              " 4,\n",
              " 172,\n",
              " 4536,\n",
              " 1111,\n",
              " 17,\n",
              " 546,\n",
              " 38,\n",
              " 13,\n",
              " 447,\n",
              " 4,\n",
              " 192,\n",
              " 50,\n",
              " 16,\n",
              " 6,\n",
              " 147,\n",
              " 2025,\n",
              " 19,\n",
              " 14,\n",
              " 22,\n",
              " 4,\n",
              " 1920,\n",
              " 4613,\n",
              " 469,\n",
              " 4,\n",
              " 22,\n",
              " 71,\n",
              " 87,\n",
              " 12,\n",
              " 16,\n",
              " 43,\n",
              " 530,\n",
              " 38,\n",
              " 76,\n",
              " 15,\n",
              " 13,\n",
              " 1247,\n",
              " 4,\n",
              " 22,\n",
              " 17,\n",
              " 515,\n",
              " 17,\n",
              " 12,\n",
              " 16,\n",
              " 626,\n",
              " 18,\n",
              " 2,\n",
              " 5,\n",
              " 62,\n",
              " 386,\n",
              " 12,\n",
              " 8,\n",
              " 316,\n",
              " 8,\n",
              " 106,\n",
              " 5,\n",
              " 4,\n",
              " 2223,\n",
              " 5244,\n",
              " 16,\n",
              " 480,\n",
              " 66,\n",
              " 3785,\n",
              " 33,\n",
              " 4,\n",
              " 130,\n",
              " 12,\n",
              " 16,\n",
              " 38,\n",
              " 619,\n",
              " 5,\n",
              " 25,\n",
              " 124,\n",
              " 51,\n",
              " 36,\n",
              " 135,\n",
              " 48,\n",
              " 25,\n",
              " 1415,\n",
              " 33,\n",
              " 6,\n",
              " 22,\n",
              " 12,\n",
              " 215,\n",
              " 28,\n",
              " 77,\n",
              " 52,\n",
              " 5,\n",
              " 14,\n",
              " 407,\n",
              " 16,\n",
              " 82,\n",
              " 2,\n",
              " 8,\n",
              " 4,\n",
              " 107,\n",
              " 117,\n",
              " 5952,\n",
              " 15,\n",
              " 256,\n",
              " 4,\n",
              " 2,\n",
              " 7,\n",
              " 3766,\n",
              " 5,\n",
              " 723,\n",
              " 36,\n",
              " 71,\n",
              " 43,\n",
              " 530,\n",
              " 476,\n",
              " 26,\n",
              " 400,\n",
              " 317,\n",
              " 46,\n",
              " 7,\n",
              " 4,\n",
              " 2,\n",
              " 1029,\n",
              " 13,\n",
              " 104,\n",
              " 88,\n",
              " 4,\n",
              " 381,\n",
              " 15,\n",
              " 297,\n",
              " 98,\n",
              " 32,\n",
              " 2071,\n",
              " 56,\n",
              " 26,\n",
              " 141,\n",
              " 6,\n",
              " 194,\n",
              " 7486,\n",
              " 18,\n",
              " 4,\n",
              " 226,\n",
              " 22,\n",
              " 21,\n",
              " 134,\n",
              " 476,\n",
              " 26,\n",
              " 480,\n",
              " 5,\n",
              " 144,\n",
              " 30,\n",
              " 5535,\n",
              " 18,\n",
              " 51,\n",
              " 36,\n",
              " 28,\n",
              " 224,\n",
              " 92,\n",
              " 25,\n",
              " 104,\n",
              " 4,\n",
              " 226,\n",
              " 65,\n",
              " 16,\n",
              " 38,\n",
              " 1334,\n",
              " 88,\n",
              " 12,\n",
              " 16,\n",
              " 283,\n",
              " 5,\n",
              " 16,\n",
              " 4472,\n",
              " 113,\n",
              " 103,\n",
              " 32,\n",
              " 15,\n",
              " 16,\n",
              " 5345,\n",
              " 19,\n",
              " 178,\n",
              " 32]"
            ]
          },
          "metadata": {},
          "execution_count": 2
        }
      ],
      "source": [
        "train_data[0]"
      ]
    },
    {
      "cell_type": "code",
      "execution_count": null,
      "metadata": {
        "colab": {
          "base_uri": "https://localhost:8080/"
        },
        "id": "PBj0P1xYCtcc",
        "outputId": "9e3de301-df7a-49b5-c110-b5675d1fa5d1"
      },
      "outputs": [
        {
          "output_type": "execute_result",
          "data": {
            "text/plain": [
              "1"
            ]
          },
          "metadata": {},
          "execution_count": 3
        }
      ],
      "source": [
        "train_labels[0]"
      ]
    },
    {
      "cell_type": "code",
      "execution_count": null,
      "metadata": {
        "colab": {
          "base_uri": "https://localhost:8080/"
        },
        "id": "ZHNQ54loCtcd",
        "outputId": "c14d8771-051d-473d-dd25-07c016df3a4b"
      },
      "outputs": [
        {
          "output_type": "execute_result",
          "data": {
            "text/plain": [
              "9999"
            ]
          },
          "metadata": {},
          "execution_count": 4
        }
      ],
      "source": [
        "max([max(sequence) for sequence in train_data])"
      ]
    },
    {
      "cell_type": "markdown",
      "metadata": {
        "id": "HyWyJ2igCtcd"
      },
      "source": [
        "**Decoding reviews back to text**"
      ]
    },
    {
      "cell_type": "code",
      "execution_count": null,
      "metadata": {
        "colab": {
          "base_uri": "https://localhost:8080/"
        },
        "id": "H6YZezaxCtcd",
        "outputId": "f9ace3f0-093b-414a-c978-62afa26b7f5e"
      },
      "outputs": [
        {
          "output_type": "stream",
          "name": "stdout",
          "text": [
            "Downloading data from https://storage.googleapis.com/tensorflow/tf-keras-datasets/imdb_word_index.json\n",
            "1641221/1641221 [==============================] - 0s 0us/step\n"
          ]
        }
      ],
      "source": [
        "word_index = imdb.get_word_index()\n",
        "reverse_word_index = dict(\n",
        "    [(value, key) for (key, value) in word_index.items()])\n",
        "decoded_review = \" \".join(\n",
        "    [reverse_word_index.get(i - 3, \"?\") for i in train_data[0]])"
      ]
    },
    {
      "cell_type": "markdown",
      "metadata": {
        "id": "PSbOB_FdCtcd"
      },
      "source": [
        "### Preparing the data"
      ]
    },
    {
      "cell_type": "markdown",
      "metadata": {
        "id": "yOiE6OzACtcd"
      },
      "source": [
        "**Encoding the integer sequences via multi-hot encoding**"
      ]
    },
    {
      "cell_type": "code",
      "execution_count": null,
      "metadata": {
        "id": "nQ5zKE7ECtcd"
      },
      "outputs": [],
      "source": [
        "import numpy as np\n",
        "def vectorize_sequences(sequences, dimension=10000):\n",
        "    results = np.zeros((len(sequences), dimension))\n",
        "    for i, sequence in enumerate(sequences):\n",
        "        for j in sequence:\n",
        "            results[i, j] = 1.\n",
        "    return results\n",
        "x_train = vectorize_sequences(train_data)\n",
        "x_test = vectorize_sequences(test_data)"
      ]
    },
    {
      "cell_type": "code",
      "execution_count": null,
      "metadata": {
        "colab": {
          "base_uri": "https://localhost:8080/"
        },
        "id": "Ft3ERotSCtcd",
        "outputId": "d5178f0f-aa0c-46f1-ae9b-4c9af76eda24"
      },
      "outputs": [
        {
          "output_type": "execute_result",
          "data": {
            "text/plain": [
              "array([0., 1., 1., ..., 0., 0., 0.])"
            ]
          },
          "metadata": {},
          "execution_count": 7
        }
      ],
      "source": [
        "x_train[0]"
      ]
    },
    {
      "cell_type": "code",
      "execution_count": null,
      "metadata": {
        "id": "gwohXH1LCtcd"
      },
      "outputs": [],
      "source": [
        "y_train = np.asarray(train_labels).astype(\"float32\")\n",
        "y_test = np.asarray(test_labels).astype(\"float32\")"
      ]
    },
    {
      "cell_type": "markdown",
      "metadata": {
        "id": "fAFNDp6nCtcd"
      },
      "source": [
        "### Building your model"
      ]
    },
    {
      "cell_type": "markdown",
      "metadata": {
        "id": "HhMyJhxRCtcd"
      },
      "source": [
        "**Model definition**"
      ]
    },
    {
      "cell_type": "code",
      "execution_count": null,
      "metadata": {
        "id": "jqVw0VduCtcd"
      },
      "outputs": [],
      "source": [
        "from tensorflow import keras\n",
        "from tensorflow.keras import layers\n",
        "\n",
        "model = keras.Sequential([\n",
        "    layers.Dense(16, activation=\"relu\"),\n",
        "    layers.Dense(16, activation=\"relu\"),\n",
        "    layers.Dense(1, activation=\"sigmoid\")\n",
        "])"
      ]
    },
    {
      "cell_type": "markdown",
      "metadata": {
        "id": "us8e2YAiCtcd"
      },
      "source": [
        "**Compiling the model**"
      ]
    },
    {
      "cell_type": "code",
      "execution_count": null,
      "metadata": {
        "id": "milBukqHCtcd"
      },
      "outputs": [],
      "source": [
        "model.compile(optimizer=\"rmsprop\",\n",
        "              loss=\"binary_crossentropy\",\n",
        "              metrics=[\"accuracy\"])"
      ]
    },
    {
      "cell_type": "markdown",
      "metadata": {
        "id": "oWBUS5AiCtce"
      },
      "source": [
        "### Validating your approach"
      ]
    },
    {
      "cell_type": "markdown",
      "metadata": {
        "id": "eoi8nmahCtce"
      },
      "source": [
        "**Setting aside a validation set**"
      ]
    },
    {
      "cell_type": "code",
      "execution_count": null,
      "metadata": {
        "id": "d8OvGgI_Ctce"
      },
      "outputs": [],
      "source": [
        "x_val = x_train[:10000]\n",
        "partial_x_train = x_train[10000:]\n",
        "y_val = y_train[:10000]\n",
        "partial_y_train = y_train[10000:]"
      ]
    },
    {
      "cell_type": "markdown",
      "metadata": {
        "id": "XGMxMh_bCtce"
      },
      "source": [
        "**Training your model**"
      ]
    },
    {
      "cell_type": "code",
      "execution_count": null,
      "metadata": {
        "colab": {
          "base_uri": "https://localhost:8080/"
        },
        "id": "E8nwI8jMCtce",
        "outputId": "cf4f9a16-4978-4aa2-bda8-6f02d3f7d6eb"
      },
      "outputs": [
        {
          "output_type": "stream",
          "name": "stdout",
          "text": [
            "Epoch 1/20\n",
            "30/30 [==============================] - 4s 83ms/step - loss: 0.5438 - accuracy: 0.7627 - val_loss: 0.4131 - val_accuracy: 0.8602\n",
            "Epoch 2/20\n",
            "30/30 [==============================] - 1s 42ms/step - loss: 0.3361 - accuracy: 0.8907 - val_loss: 0.3239 - val_accuracy: 0.8804\n",
            "Epoch 3/20\n",
            "30/30 [==============================] - 2s 51ms/step - loss: 0.2486 - accuracy: 0.9193 - val_loss: 0.2914 - val_accuracy: 0.8847\n",
            "Epoch 4/20\n",
            "30/30 [==============================] - 1s 42ms/step - loss: 0.1986 - accuracy: 0.9349 - val_loss: 0.2741 - val_accuracy: 0.8919\n",
            "Epoch 5/20\n",
            "30/30 [==============================] - 1s 34ms/step - loss: 0.1674 - accuracy: 0.9453 - val_loss: 0.2949 - val_accuracy: 0.8799\n",
            "Epoch 6/20\n",
            "30/30 [==============================] - 1s 32ms/step - loss: 0.1432 - accuracy: 0.9542 - val_loss: 0.2824 - val_accuracy: 0.8882\n",
            "Epoch 7/20\n",
            "30/30 [==============================] - 1s 31ms/step - loss: 0.1228 - accuracy: 0.9620 - val_loss: 0.2921 - val_accuracy: 0.8867\n",
            "Epoch 8/20\n",
            "30/30 [==============================] - 1s 32ms/step - loss: 0.1077 - accuracy: 0.9670 - val_loss: 0.3044 - val_accuracy: 0.8850\n",
            "Epoch 9/20\n",
            "30/30 [==============================] - 2s 52ms/step - loss: 0.0905 - accuracy: 0.9749 - val_loss: 0.3180 - val_accuracy: 0.8819\n",
            "Epoch 10/20\n",
            "30/30 [==============================] - 1s 37ms/step - loss: 0.0797 - accuracy: 0.9774 - val_loss: 0.3372 - val_accuracy: 0.8820\n",
            "Epoch 11/20\n",
            "30/30 [==============================] - 1s 33ms/step - loss: 0.0690 - accuracy: 0.9819 - val_loss: 0.3577 - val_accuracy: 0.8797\n",
            "Epoch 12/20\n",
            "30/30 [==============================] - 1s 31ms/step - loss: 0.0577 - accuracy: 0.9865 - val_loss: 0.4067 - val_accuracy: 0.8645\n",
            "Epoch 13/20\n",
            "30/30 [==============================] - 1s 47ms/step - loss: 0.0535 - accuracy: 0.9867 - val_loss: 0.3923 - val_accuracy: 0.8786\n",
            "Epoch 14/20\n",
            "30/30 [==============================] - 1s 30ms/step - loss: 0.0411 - accuracy: 0.9918 - val_loss: 0.4100 - val_accuracy: 0.8738\n",
            "Epoch 15/20\n",
            "30/30 [==============================] - 1s 33ms/step - loss: 0.0373 - accuracy: 0.9929 - val_loss: 0.4342 - val_accuracy: 0.8754\n",
            "Epoch 16/20\n",
            "30/30 [==============================] - 1s 32ms/step - loss: 0.0300 - accuracy: 0.9948 - val_loss: 0.4524 - val_accuracy: 0.8753\n",
            "Epoch 17/20\n",
            "30/30 [==============================] - 1s 32ms/step - loss: 0.0268 - accuracy: 0.9950 - val_loss: 0.4751 - val_accuracy: 0.8722\n",
            "Epoch 18/20\n",
            "30/30 [==============================] - 1s 32ms/step - loss: 0.0206 - accuracy: 0.9971 - val_loss: 0.5043 - val_accuracy: 0.8728\n",
            "Epoch 19/20\n",
            "30/30 [==============================] - 1s 33ms/step - loss: 0.0153 - accuracy: 0.9989 - val_loss: 0.5611 - val_accuracy: 0.8580\n",
            "Epoch 20/20\n",
            "30/30 [==============================] - 1s 49ms/step - loss: 0.0174 - accuracy: 0.9971 - val_loss: 0.5407 - val_accuracy: 0.8716\n"
          ]
        }
      ],
      "source": [
        "history = model.fit(partial_x_train,\n",
        "                    partial_y_train,\n",
        "                    epochs=20,\n",
        "                    batch_size=512,\n",
        "                    validation_data=(x_val, y_val))"
      ]
    },
    {
      "cell_type": "code",
      "execution_count": null,
      "metadata": {
        "colab": {
          "base_uri": "https://localhost:8080/"
        },
        "id": "ZUbtXq8jCtce",
        "outputId": "eae64e77-1d9d-4065-e4bd-d4b10c157b6d"
      },
      "outputs": [
        {
          "output_type": "execute_result",
          "data": {
            "text/plain": [
              "dict_keys(['loss', 'accuracy', 'val_loss', 'val_accuracy'])"
            ]
          },
          "metadata": {},
          "execution_count": 13
        }
      ],
      "source": [
        "history_dict = history.history\n",
        "history_dict.keys()"
      ]
    },
    {
      "cell_type": "markdown",
      "metadata": {
        "id": "bDnb2GwgCtce"
      },
      "source": [
        "**Plotting the training and validation loss**"
      ]
    },
    {
      "cell_type": "code",
      "execution_count": null,
      "metadata": {
        "colab": {
          "base_uri": "https://localhost:8080/",
          "height": 472
        },
        "id": "XPUce0yYCtce",
        "outputId": "661c8b68-54e7-4f19-e513-0d626c72144f"
      },
      "outputs": [
        {
          "output_type": "display_data",
          "data": {
            "text/plain": [
              "<Figure size 640x480 with 1 Axes>"
            ],
            "image/png": "[encoded data removed]"
          },
          "metadata": {}
        }
      ],
      "source": [
        "import matplotlib.pyplot as plt\n",
        "history_dict = history.history\n",
        "loss_values = history_dict[\"loss\"]\n",
        "val_loss_values = history_dict[\"val_loss\"]\n",
        "epochs = range(1, len(loss_values) + 1)\n",
        "plt.plot(epochs, loss_values, \"bo\", label=\"Training loss\")\n",
        "plt.plot(epochs, val_loss_values, \"b\", label=\"Validation loss\")\n",
        "plt.title(\"Training and validation loss\")\n",
        "plt.xlabel(\"Epochs\")\n",
        "plt.ylabel(\"Loss\")\n",
        "plt.legend()\n",
        "plt.show()"
      ]
    },
    {
      "cell_type": "markdown",
      "metadata": {
        "id": "gAcJt8UoCtce"
      },
      "source": [
        "**Plotting the training and validation accuracy**"
      ]
    },
    {
      "cell_type": "code",
      "execution_count": null,
      "metadata": {
        "colab": {
          "base_uri": "https://localhost:8080/",
          "height": 472
        },
        "id": "kn3FCVZlCtce",
        "outputId": "c77681ef-7c83-491b-d2e7-93e95fcc6ab7"
      },
      "outputs": [
        {
          "output_type": "display_data",
          "data": {
            "text/plain": [
              "<Figure size 640x480 with 1 Axes>"
            ],
            "image/png": "[encoded data removed]"
          },
          "metadata": {}
        }
      ],
      "source": [
        "plt.clf()\n",
        "acc = history_dict[\"accuracy\"]\n",
        "val_acc = history_dict[\"val_accuracy\"]\n",
        "plt.plot(epochs, acc, \"bo\", label=\"Training acc\")\n",
        "plt.plot(epochs, val_acc, \"b\", label=\"Validation acc\")\n",
        "plt.title(\"Training and validation accuracy\")\n",
        "plt.xlabel(\"Epochs\")\n",
        "plt.ylabel(\"Accuracy\")\n",
        "plt.legend()\n",
        "plt.show()"
      ]
    },
    {
      "cell_type": "markdown",
      "metadata": {
        "id": "6maa0fUyCtce"
      },
      "source": [
        "**Retraining a model from scratch**"
      ]
    },
    {
      "cell_type": "code",
      "execution_count": null,
      "metadata": {
        "colab": {
          "base_uri": "https://localhost:8080/"
        },
        "id": "zMMmpPAOCtce",
        "outputId": "8c1b7760-d124-4370-8cbf-83246b79d30c"
      },
      "outputs": [
        {
          "output_type": "stream",
          "name": "stdout",
          "text": [
            "Epoch 1/4\n",
            "49/49 [==============================] - 2s 32ms/step - loss: 0.4955 - accuracy: 0.8016\n",
            "Epoch 2/4\n",
            "49/49 [==============================] - 1s 24ms/step - loss: 0.2813 - accuracy: 0.9025\n",
            "Epoch 3/4\n",
            "49/49 [==============================] - 1s 23ms/step - loss: 0.2157 - accuracy: 0.9232\n",
            "Epoch 4/4\n",
            "49/49 [==============================] - 1s 25ms/step - loss: 0.1833 - accuracy: 0.9348\n",
            "782/782 [==============================] - 3s 3ms/step - loss: 0.2853 - accuracy: 0.8863\n"
          ]
        }
      ],
      "source": [
        "model = keras.Sequential([\n",
        "    layers.Dense(16, activation=\"relu\"),\n",
        "    layers.Dense(16, activation=\"relu\"),\n",
        "    layers.Dense(1, activation=\"sigmoid\")\n",
        "])\n",
        "model.compile(optimizer=\"rmsprop\",\n",
        "              loss=\"binary_crossentropy\",\n",
        "              metrics=[\"accuracy\"])\n",
        "model.fit(x_train, y_train, epochs=4, batch_size=512)\n",
        "results = model.evaluate(x_test, y_test)"
      ]
    },
    {
      "cell_type": "code",
      "execution_count": null,
      "metadata": {
        "colab": {
          "base_uri": "https://localhost:8080/"
        },
        "id": "N2T7biViCtce",
        "outputId": "ca3e5de6-bfe3-496e-8872-0f852979dab8"
      },
      "outputs": [
        {
          "output_type": "execute_result",
          "data": {
            "text/plain": [
              "[0.2853206396102905, 0.8862800002098083]"
            ]
          },
          "metadata": {},
          "execution_count": 17
        }
      ],
      "source": [
        "results"
      ]
    },
    {
      "cell_type": "markdown",
      "metadata": {
        "id": "X9EaqW-xCtce"
      },
      "source": [
        "### Using a trained model to generate predictions on new data"
      ]
    },
    {
      "cell_type": "code",
      "execution_count": null,
      "metadata": {
        "colab": {
          "base_uri": "https://localhost:8080/"
        },
        "id": "8xbZkISXCtce",
        "outputId": "5e49aff1-705f-4f1e-be0b-380648f0dc2b"
      },
      "outputs": [
        {
          "output_type": "stream",
          "name": "stdout",
          "text": [
            "782/782 [==============================] - 3s 3ms/step\n"
          ]
        },
        {
          "output_type": "execute_result",
          "data": {
            "text/plain": [
              "array([[0.18878858],\n",
              "       [0.9987235 ],\n",
              "       [0.87507635],\n",
              "       ...,\n",
              "       [0.07228927],\n",
              "       [0.06554143],\n",
              "       [0.5796905 ]], dtype=float32)"
            ]
          },
          "metadata": {},
          "execution_count": 18
        }
      ],
      "source": [
        "model.predict(x_test)"
      ]
    },
    {
      "cell_type": "markdown",
      "metadata": {
        "id": "V_MZ_7syCtce"
      },
      "source": [
        "## Classifying newswires: A multiclass classification example"
      ]
    },
    {
      "cell_type": "markdown",
      "metadata": {
        "id": "s88p3MGyCtcf"
      },
      "source": [
        "### The Reuters dataset"
      ]
    },
    {
      "cell_type": "markdown",
      "metadata": {
        "id": "4UuSZyLlCtcf"
      },
      "source": [
        "**Loading the Reuters dataset**"
      ]
    },
    {
      "cell_type": "code",
      "execution_count": 19,
      "metadata": {
        "id": "9m73Mtv8Ctcf",
        "colab": {
          "base_uri": "https://localhost:8080/"
        },
        "outputId": "33827bab-b197-4871-ccdd-854b745b6fd6"
      },
      "outputs": [
        {
          "output_type": "stream",
          "name": "stdout",
          "text": [
            "Downloading data from https://storage.googleapis.com/tensorflow/tf-keras-datasets/reuters.npz\n",
            "2110848/2110848 [==============================] - 0s 0us/step\n"
          ]
        }
      ],
      "source": [
        "from tensorflow.keras.datasets import reuters\n",
        "(train_data, train_labels), (test_data, test_labels) = reuters.load_data(\n",
        "    num_words=10000)"
      ]
    },
    {
      "cell_type": "code",
      "execution_count": 20,
      "metadata": {
        "id": "3cOpEExuCtcf",
        "colab": {
          "base_uri": "https://localhost:8080/"
        },
        "outputId": "94924232-4a9c-46a9-a085-ff79d56c7e0e"
      },
      "outputs": [
        {
          "output_type": "execute_result",
          "data": {
            "text/plain": [
              "8982"
            ]
          },
          "metadata": {},
          "execution_count": 20
        }
      ],
      "source": [
        "len(train_data)"
      ]
    },
    {
      "cell_type": "code",
      "execution_count": 21,
      "metadata": {
        "id": "jsDT0lAMCtcf",
        "colab": {
          "base_uri": "https://localhost:8080/"
        },
        "outputId": "a4be037b-1030-45c8-db35-585070133031"
      },
      "outputs": [
        {
          "output_type": "execute_result",
          "data": {
            "text/plain": [
              "2246"
            ]
          },
          "metadata": {},
          "execution_count": 21
        }
      ],
      "source": [
        "len(test_data)"
      ]
    },
    {
      "cell_type": "code",
      "execution_count": 22,
      "metadata": {
        "id": "GD9tTlsRCtcf",
        "colab": {
          "base_uri": "https://localhost:8080/"
        },
        "outputId": "620d6c47-3b70-4b08-998f-62169ba62491"
      },
      "outputs": [
        {
          "output_type": "execute_result",
          "data": {
            "text/plain": [
              "[1,\n",
              " 245,\n",
              " 273,\n",
              " 207,\n",
              " 156,\n",
              " 53,\n",
              " 74,\n",
              " 160,\n",
              " 26,\n",
              " 14,\n",
              " 46,\n",
              " 296,\n",
              " 26,\n",
              " 39,\n",
              " 74,\n",
              " 2979,\n",
              " 3554,\n",
              " 14,\n",
              " 46,\n",
              " 4689,\n",
              " 4329,\n",
              " 86,\n",
              " 61,\n",
              " 3499,\n",
              " 4795,\n",
              " 14,\n",
              " 61,\n",
              " 451,\n",
              " 4329,\n",
              " 17,\n",
              " 12]"
            ]
          },
          "metadata": {},
          "execution_count": 22
        }
      ],
      "source": [
        "train_data[10]"
      ]
    },
    {
      "cell_type": "markdown",
      "metadata": {
        "id": "zqACC7UECtcf"
      },
      "source": [
        "**Decoding newswires back to text**"
      ]
    },
    {
      "cell_type": "code",
      "execution_count": 23,
      "metadata": {
        "id": "EadmfXIhCtcf",
        "colab": {
          "base_uri": "https://localhost:8080/"
        },
        "outputId": "6d0dfdfe-7ec6-44cb-d866-472548175ce2"
      },
      "outputs": [
        {
          "output_type": "stream",
          "name": "stdout",
          "text": [
            "Downloading data from https://storage.googleapis.com/tensorflow/tf-keras-datasets/reuters_word_index.json\n",
            "550378/550378 [==============================] - 0s 0us/step\n"
          ]
        }
      ],
      "source": [
        "word_index = reuters.get_word_index()\n",
        "reverse_word_index = dict([(value, key) for (key, value) in word_index.items()])\n",
        "decoded_newswire = \" \".join([reverse_word_index.get(i - 3, \"?\") for i in\n",
        "    train_data[0]])"
      ]
    },
    {
      "cell_type": "code",
      "execution_count": 24,
      "metadata": {
        "id": "XjHqYzwECtcf",
        "colab": {
          "base_uri": "https://localhost:8080/"
        },
        "outputId": "fb2bc5d3-52af-437a-ed0b-1aedbd76f684"
      },
      "outputs": [
        {
          "output_type": "execute_result",
          "data": {
            "text/plain": [
              "3"
            ]
          },
          "metadata": {},
          "execution_count": 24
        }
      ],
      "source": [
        "train_labels[10]"
      ]
    },
    {
      "cell_type": "markdown",
      "metadata": {
        "id": "2rTHUYcICtcf"
      },
      "source": [
        "### Preparing the data"
      ]
    },
    {
      "cell_type": "markdown",
      "metadata": {
        "id": "8zZ3YGjOCtcf"
      },
      "source": [
        "**Encoding the input data**"
      ]
    },
    {
      "cell_type": "code",
      "execution_count": 25,
      "metadata": {
        "id": "0WsvS_8ICtcf"
      },
      "outputs": [],
      "source": [
        "x_train = vectorize_sequences(train_data)\n",
        "x_test = vectorize_sequences(test_data)"
      ]
    },
    {
      "cell_type": "markdown",
      "metadata": {
        "id": "8_GUDuWKCtcf"
      },
      "source": [
        "**Encoding the labels**"
      ]
    },
    {
      "cell_type": "code",
      "execution_count": 26,
      "metadata": {
        "id": "qP5WNtqFCtcf"
      },
      "outputs": [],
      "source": [
        "def to_one_hot(labels, dimension=46):\n",
        "    results = np.zeros((len(labels), dimension))\n",
        "    for i, label in enumerate(labels):\n",
        "        results[i, label] = 1.\n",
        "    return results\n",
        "y_train = to_one_hot(train_labels)\n",
        "y_test = to_one_hot(test_labels)"
      ]
    },
    {
      "cell_type": "code",
      "execution_count": 27,
      "metadata": {
        "id": "VMcnl3m_Ctcf"
      },
      "outputs": [],
      "source": [
        "from tensorflow.keras.utils import to_categorical\n",
        "y_train = to_categorical(train_labels)\n",
        "y_test = to_categorical(test_labels)"
      ]
    },
    {
      "cell_type": "markdown",
      "metadata": {
        "id": "vZjpYUZvCtcf"
      },
      "source": [
        "### Building your model"
      ]
    },
    {
      "cell_type": "markdown",
      "metadata": {
        "id": "RXip3RRBCtcg"
      },
      "source": [
        "**Model definition**"
      ]
    },
    {
      "cell_type": "code",
      "execution_count": 28,
      "metadata": {
        "id": "WhVZ3kMDCtcg"
      },
      "outputs": [],
      "source": [
        "model = keras.Sequential([\n",
        "    layers.Dense(64, activation=\"relu\"),\n",
        "    layers.Dense(64, activation=\"relu\"),\n",
        "    layers.Dense(46, activation=\"softmax\")\n",
        "])"
      ]
    },
    {
      "cell_type": "markdown",
      "metadata": {
        "id": "MbhSK44ECtcg"
      },
      "source": [
        "**Compiling the model**"
      ]
    },
    {
      "cell_type": "code",
      "execution_count": 29,
      "metadata": {
        "id": "fs7W4asnCtcg"
      },
      "outputs": [],
      "source": [
        "model.compile(optimizer=\"rmsprop\",\n",
        "              loss=\"categorical_crossentropy\",\n",
        "              metrics=[\"accuracy\"])"
      ]
    },
    {
      "cell_type": "markdown",
      "metadata": {
        "id": "YipQsJPDCtcg"
      },
      "source": [
        "### Validating your approach"
      ]
    },
    {
      "cell_type": "markdown",
      "metadata": {
        "id": "ZK8dIbVLCtcg"
      },
      "source": [
        "**Setting aside a validation set**"
      ]
    },
    {
      "cell_type": "code",
      "execution_count": 30,
      "metadata": {
        "id": "dI4DmIFuCtcg"
      },
      "outputs": [],
      "source": [
        "x_val = x_train[:1000]\n",
        "partial_x_train = x_train[1000:]\n",
        "y_val = y_train[:1000]\n",
        "partial_y_train = y_train[1000:]"
      ]
    },
    {
      "cell_type": "markdown",
      "metadata": {
        "id": "NI5yj9nuCtcg"
      },
      "source": [
        "**Training the model**"
      ]
    },
    {
      "cell_type": "code",
      "execution_count": 31,
      "metadata": {
        "id": "WkBYErDtCtcg",
        "colab": {
          "base_uri": "https://localhost:8080/"
        },
        "outputId": "ad89b7f2-0879-41a0-f501-805946aaaa53"
      },
      "outputs": [
        {
          "output_type": "stream",
          "name": "stdout",
          "text": [
            "Epoch 1/20\n",
            "16/16 [==============================] - 2s 82ms/step - loss: 2.6978 - accuracy: 0.5034 - val_loss: 1.8127 - val_accuracy: 0.6190\n",
            "Epoch 2/20\n",
            "16/16 [==============================] - 1s 63ms/step - loss: 1.5195 - accuracy: 0.6812 - val_loss: 1.3753 - val_accuracy: 0.6940\n",
            "Epoch 3/20\n",
            "16/16 [==============================] - 1s 60ms/step - loss: 1.1616 - accuracy: 0.7448 - val_loss: 1.1797 - val_accuracy: 0.7520\n",
            "Epoch 4/20\n",
            "16/16 [==============================] - 1s 52ms/step - loss: 0.9450 - accuracy: 0.7969 - val_loss: 1.0852 - val_accuracy: 0.7740\n",
            "Epoch 5/20\n",
            "16/16 [==============================] - 1s 54ms/step - loss: 0.7806 - accuracy: 0.8312 - val_loss: 1.0145 - val_accuracy: 0.7820\n",
            "Epoch 6/20\n",
            "16/16 [==============================] - 1s 74ms/step - loss: 0.6490 - accuracy: 0.8589 - val_loss: 0.9679 - val_accuracy: 0.7950\n",
            "Epoch 7/20\n",
            "16/16 [==============================] - 1s 91ms/step - loss: 0.5401 - accuracy: 0.8864 - val_loss: 0.9248 - val_accuracy: 0.8060\n",
            "Epoch 8/20\n",
            "16/16 [==============================] - 1s 77ms/step - loss: 0.4500 - accuracy: 0.9048 - val_loss: 0.9154 - val_accuracy: 0.8050\n",
            "Epoch 9/20\n",
            "16/16 [==============================] - 1s 56ms/step - loss: 0.3783 - accuracy: 0.9182 - val_loss: 0.9059 - val_accuracy: 0.8090\n",
            "Epoch 10/20\n",
            "16/16 [==============================] - 1s 55ms/step - loss: 0.3242 - accuracy: 0.9302 - val_loss: 0.9051 - val_accuracy: 0.8130\n",
            "Epoch 11/20\n",
            "16/16 [==============================] - 1s 53ms/step - loss: 0.2764 - accuracy: 0.9372 - val_loss: 0.9069 - val_accuracy: 0.8150\n",
            "Epoch 12/20\n",
            "16/16 [==============================] - 1s 52ms/step - loss: 0.2454 - accuracy: 0.9429 - val_loss: 0.9087 - val_accuracy: 0.8130\n",
            "Epoch 13/20\n",
            "16/16 [==============================] - 1s 54ms/step - loss: 0.2149 - accuracy: 0.9460 - val_loss: 0.9641 - val_accuracy: 0.8010\n",
            "Epoch 14/20\n",
            "16/16 [==============================] - 1s 55ms/step - loss: 0.1970 - accuracy: 0.9490 - val_loss: 0.9126 - val_accuracy: 0.8170\n",
            "Epoch 15/20\n",
            "16/16 [==============================] - 1s 52ms/step - loss: 0.1781 - accuracy: 0.9529 - val_loss: 0.9127 - val_accuracy: 0.8160\n",
            "Epoch 16/20\n",
            "16/16 [==============================] - 1s 53ms/step - loss: 0.1634 - accuracy: 0.9546 - val_loss: 0.9245 - val_accuracy: 0.8120\n",
            "Epoch 17/20\n",
            "16/16 [==============================] - 2s 104ms/step - loss: 0.1555 - accuracy: 0.9550 - val_loss: 0.9551 - val_accuracy: 0.8130\n",
            "Epoch 18/20\n",
            "16/16 [==============================] - 2s 125ms/step - loss: 0.1472 - accuracy: 0.9555 - val_loss: 0.9727 - val_accuracy: 0.8070\n",
            "Epoch 19/20\n",
            "16/16 [==============================] - 2s 146ms/step - loss: 0.1377 - accuracy: 0.9567 - val_loss: 0.9791 - val_accuracy: 0.8050\n",
            "Epoch 20/20\n",
            "16/16 [==============================] - 2s 105ms/step - loss: 0.1337 - accuracy: 0.9548 - val_loss: 1.0365 - val_accuracy: 0.7970\n"
          ]
        }
      ],
      "source": [
        "history = model.fit(partial_x_train,\n",
        "                    partial_y_train,\n",
        "                    epochs=20,\n",
        "                    batch_size=512,\n",
        "                    validation_data=(x_val, y_val))"
      ]
    },
    {
      "cell_type": "markdown",
      "metadata": {
        "id": "wKcRw2NTCtcg"
      },
      "source": [
        "**Plotting the training and validation loss**"
      ]
    },
    {
      "cell_type": "code",
      "execution_count": 32,
      "metadata": {
        "id": "9cHLRYpMCtcg",
        "colab": {
          "base_uri": "https://localhost:8080/",
          "height": 472
        },
        "outputId": "04902b31-7dae-4176-9b54-463cbb06a9c7"
      },
      "outputs": [
        {
          "output_type": "display_data",
          "data": {
            "text/plain": [
              "<Figure size 640x480 with 1 Axes>"
            ],
            "image/png": "[encoded data removed]"
          },
          "metadata": {}
        }
      ],
      "source": [
        "loss = history.history[\"loss\"]\n",
        "val_loss = history.history[\"val_loss\"]\n",
        "epochs = range(1, len(loss) + 1)\n",
        "plt.plot(epochs, loss, \"bo\", label=\"Training loss\")\n",
        "plt.plot(epochs, val_loss, \"b\", label=\"Validation loss\")\n",
        "plt.title(\"Training and validation loss\")\n",
        "plt.xlabel(\"Epochs\")\n",
        "plt.ylabel(\"Loss\")\n",
        "plt.legend()\n",
        "plt.show()"
      ]
    },
    {
      "cell_type": "markdown",
      "metadata": {
        "id": "B1fuZgt7Ctcg"
      },
      "source": [
        "**Plotting the training and validation accuracy**"
      ]
    },
    {
      "cell_type": "code",
      "execution_count": 33,
      "metadata": {
        "id": "4zCxIdCGCtcg",
        "colab": {
          "base_uri": "https://localhost:8080/",
          "height": 472
        },
        "outputId": "25a9673a-f6ac-4cc3-8e80-175a9fbb84fb"
      },
      "outputs": [
        {
          "output_type": "display_data",
          "data": {
            "text/plain": [
              "<Figure size 640x480 with 1 Axes>"
            ],
            "image/png": "[encoded data removed]"
          },
          "metadata": {}
        }
      ],
      "source": [
        "plt.clf()\n",
        "acc = history.history[\"accuracy\"]\n",
        "val_acc = history.history[\"val_accuracy\"]\n",
        "plt.plot(epochs, acc, \"bo\", label=\"Training accuracy\")\n",
        "plt.plot(epochs, val_acc, \"b\", label=\"Validation accuracy\")\n",
        "plt.title(\"Training and validation accuracy\")\n",
        "plt.xlabel(\"Epochs\")\n",
        "plt.ylabel(\"Accuracy\")\n",
        "plt.legend()\n",
        "plt.show()"
      ]
    },
    {
      "cell_type": "markdown",
      "metadata": {
        "id": "UPswIE8ZCtcg"
      },
      "source": [
        "**Retraining a model from scratch**"
      ]
    },
    {
      "cell_type": "code",
      "execution_count": 34,
      "metadata": {
        "id": "K8HGWVqoCtcg",
        "colab": {
          "base_uri": "https://localhost:8080/"
        },
        "outputId": "c558f219-0995-4e29-bb0e-6c60b3fdef8d"
      },
      "outputs": [
        {
          "output_type": "stream",
          "name": "stdout",
          "text": [
            "Epoch 1/9\n",
            "18/18 [==============================] - 2s 55ms/step - loss: 2.5849 - accuracy: 0.5196\n",
            "Epoch 2/9\n",
            "18/18 [==============================] - 1s 50ms/step - loss: 1.4587 - accuracy: 0.6820\n",
            "Epoch 3/9\n",
            "18/18 [==============================] - 1s 74ms/step - loss: 1.1245 - accuracy: 0.7535\n",
            "Epoch 4/9\n",
            "18/18 [==============================] - 1s 80ms/step - loss: 0.9160 - accuracy: 0.8020\n",
            "Epoch 5/9\n",
            "18/18 [==============================] - 1s 50ms/step - loss: 0.7476 - accuracy: 0.8389\n",
            "Epoch 6/9\n",
            "18/18 [==============================] - 1s 52ms/step - loss: 0.6209 - accuracy: 0.8670\n",
            "Epoch 7/9\n",
            "18/18 [==============================] - 1s 49ms/step - loss: 0.5161 - accuracy: 0.8932\n",
            "Epoch 8/9\n",
            "18/18 [==============================] - 1s 49ms/step - loss: 0.4376 - accuracy: 0.9047\n",
            "Epoch 9/9\n",
            "18/18 [==============================] - 1s 51ms/step - loss: 0.3685 - accuracy: 0.9207\n",
            "71/71 [==============================] - 0s 5ms/step - loss: 0.9016 - accuracy: 0.7925\n"
          ]
        }
      ],
      "source": [
        "model = keras.Sequential([\n",
        "  layers.Dense(64, activation=\"relu\"),\n",
        "  layers.Dense(64, activation=\"relu\"),\n",
        "  layers.Dense(46, activation=\"softmax\")\n",
        "])\n",
        "model.compile(optimizer=\"rmsprop\",\n",
        "              loss=\"categorical_crossentropy\",\n",
        "              metrics=[\"accuracy\"])\n",
        "model.fit(x_train,\n",
        "          y_train,\n",
        "          epochs=9,\n",
        "          batch_size=512)\n",
        "results = model.evaluate(x_test, y_test)"
      ]
    },
    {
      "cell_type": "code",
      "execution_count": 35,
      "metadata": {
        "id": "1INEtubkCtcg",
        "colab": {
          "base_uri": "https://localhost:8080/"
        },
        "outputId": "ace434e0-22a1-48ce-ce72-3a9691761d67"
      },
      "outputs": [
        {
          "output_type": "execute_result",
          "data": {
            "text/plain": [
              "[0.9016489386558533, 0.7925200462341309]"
            ]
          },
          "metadata": {},
          "execution_count": 35
        }
      ],
      "source": [
        "results"
      ]
    },
    {
      "cell_type": "code",
      "execution_count": 36,
      "metadata": {
        "id": "7rVxVLW2Ctcg",
        "colab": {
          "base_uri": "https://localhost:8080/"
        },
        "outputId": "6ff8ef13-c669-4de7-ebd1-a7ef5937498b"
      },
      "outputs": [
        {
          "output_type": "execute_result",
          "data": {
            "text/plain": [
              "0.20035618878005343"
            ]
          },
          "metadata": {},
          "execution_count": 36
        }
      ],
      "source": [
        "import copy\n",
        "test_labels_copy = copy.copy(test_labels)\n",
        "np.random.shuffle(test_labels_copy)\n",
        "hits_array = np.array(test_labels) == np.array(test_labels_copy)\n",
        "hits_array.mean()"
      ]
    },
    {
      "cell_type": "markdown",
      "metadata": {
        "id": "ULXQCakOCtcg"
      },
      "source": [
        "### Generating predictions on new data"
      ]
    },
    {
      "cell_type": "code",
      "execution_count": 37,
      "metadata": {
        "id": "cf3LgehaCtcg",
        "colab": {
          "base_uri": "https://localhost:8080/"
        },
        "outputId": "75feea0e-2a4b-434e-9663-1b00ade4401e"
      },
      "outputs": [
        {
          "output_type": "stream",
          "name": "stdout",
          "text": [
            "71/71 [==============================] - 0s 6ms/step\n"
          ]
        }
      ],
      "source": [
        "predictions = model.predict(x_test)"
      ]
    },
    {
      "cell_type": "code",
      "execution_count": 38,
      "metadata": {
        "id": "T1pQcwuxCtcg",
        "colab": {
          "base_uri": "https://localhost:8080/"
        },
        "outputId": "9f9e236f-5867-4989-a861-0b34f872f952"
      },
      "outputs": [
        {
          "output_type": "execute_result",
          "data": {
            "text/plain": [
              "(46,)"
            ]
          },
          "metadata": {},
          "execution_count": 38
        }
      ],
      "source": [
        "predictions[0].shape"
      ]
    },
    {
      "cell_type": "code",
      "execution_count": 39,
      "metadata": {
        "id": "pbk8FvGKCtch",
        "colab": {
          "base_uri": "https://localhost:8080/"
        },
        "outputId": "3d39d970-f4ca-4bd2-a846-71eed9606a2b"
      },
      "outputs": [
        {
          "output_type": "execute_result",
          "data": {
            "text/plain": [
              "0.9999999"
            ]
          },
          "metadata": {},
          "execution_count": 39
        }
      ],
      "source": [
        "np.sum(predictions[0])"
      ]
    },
    {
      "cell_type": "code",
      "execution_count": 40,
      "metadata": {
        "id": "vgaeVf4GCtch",
        "colab": {
          "base_uri": "https://localhost:8080/"
        },
        "outputId": "31378b37-a521-4acb-e2ec-73e0c1370248"
      },
      "outputs": [
        {
          "output_type": "execute_result",
          "data": {
            "text/plain": [
              "3"
            ]
          },
          "metadata": {},
          "execution_count": 40
        }
      ],
      "source": [
        "np.argmax(predictions[0])"
      ]
    },
    {
      "cell_type": "markdown",
      "metadata": {
        "id": "CJmwDz-rCtch"
      },
      "source": [
        "### A different way to handle the labels and the loss"
      ]
    },
    {
      "cell_type": "code",
      "execution_count": 41,
      "metadata": {
        "id": "-9nJsmkaCtch"
      },
      "outputs": [],
      "source": [
        "y_train = np.array(train_labels)\n",
        "y_test = np.array(test_labels)"
      ]
    },
    {
      "cell_type": "code",
      "execution_count": 42,
      "metadata": {
        "id": "AcwWPkkRCtch"
      },
      "outputs": [],
      "source": [
        "model.compile(optimizer=\"rmsprop\",\n",
        "              loss=\"sparse_categorical_crossentropy\",\n",
        "              metrics=[\"accuracy\"])"
      ]
    },
    {
      "cell_type": "markdown",
      "metadata": {
        "id": "Fx_6omT0Ctch"
      },
      "source": [
        "### The importance of having sufficiently large intermediate layers"
      ]
    },
    {
      "cell_type": "markdown",
      "metadata": {
        "id": "-bnylHggCtch"
      },
      "source": [
        "**A model with an information bottleneck**"
      ]
    },
    {
      "cell_type": "code",
      "execution_count": 43,
      "metadata": {
        "id": "8cbrJ120Ctch",
        "colab": {
          "base_uri": "https://localhost:8080/"
        },
        "outputId": "184301d3-8b2f-48ff-cbf5-f67f7229d5a0"
      },
      "outputs": [
        {
          "output_type": "stream",
          "name": "stdout",
          "text": [
            "Epoch 1/20\n",
            "63/63 [==============================] - 2s 27ms/step - loss: 2.9756 - accuracy: 0.2923 - val_loss: 2.2232 - val_accuracy: 0.5390\n",
            "Epoch 2/20\n",
            "63/63 [==============================] - 1s 23ms/step - loss: 1.7807 - accuracy: 0.6104 - val_loss: 1.5568 - val_accuracy: 0.6330\n",
            "Epoch 3/20\n",
            "63/63 [==============================] - 2s 30ms/step - loss: 1.3770 - accuracy: 0.6646 - val_loss: 1.3897 - val_accuracy: 0.6670\n",
            "Epoch 4/20\n",
            "63/63 [==============================] - 1s 21ms/step - loss: 1.2005 - accuracy: 0.7096 - val_loss: 1.3176 - val_accuracy: 0.6910\n",
            "Epoch 5/20\n",
            "63/63 [==============================] - 1s 21ms/step - loss: 1.0807 - accuracy: 0.7384 - val_loss: 1.3207 - val_accuracy: 0.6820\n",
            "Epoch 6/20\n",
            "63/63 [==============================] - 1s 20ms/step - loss: 0.9949 - accuracy: 0.7516 - val_loss: 1.2478 - val_accuracy: 0.7080\n",
            "Epoch 7/20\n",
            "63/63 [==============================] - 1s 20ms/step - loss: 0.9213 - accuracy: 0.7669 - val_loss: 1.2511 - val_accuracy: 0.7140\n",
            "Epoch 8/20\n",
            "63/63 [==============================] - 2s 25ms/step - loss: 0.8610 - accuracy: 0.7779 - val_loss: 1.2471 - val_accuracy: 0.7140\n",
            "Epoch 9/20\n",
            "63/63 [==============================] - 2s 30ms/step - loss: 0.8054 - accuracy: 0.7845 - val_loss: 1.2562 - val_accuracy: 0.7140\n",
            "Epoch 10/20\n",
            "63/63 [==============================] - 1s 21ms/step - loss: 0.7566 - accuracy: 0.7923 - val_loss: 1.2650 - val_accuracy: 0.7200\n",
            "Epoch 11/20\n",
            "63/63 [==============================] - 2s 29ms/step - loss: 0.7153 - accuracy: 0.7985 - val_loss: 1.2802 - val_accuracy: 0.7210\n",
            "Epoch 12/20\n",
            "63/63 [==============================] - 2s 26ms/step - loss: 0.6718 - accuracy: 0.8106 - val_loss: 1.2829 - val_accuracy: 0.7190\n",
            "Epoch 13/20\n",
            "63/63 [==============================] - 1s 19ms/step - loss: 0.6366 - accuracy: 0.8205 - val_loss: 1.3087 - val_accuracy: 0.7230\n",
            "Epoch 14/20\n",
            "63/63 [==============================] - 1s 20ms/step - loss: 0.6054 - accuracy: 0.8284 - val_loss: 1.4080 - val_accuracy: 0.7130\n",
            "Epoch 15/20\n",
            "63/63 [==============================] - 1s 21ms/step - loss: 0.5809 - accuracy: 0.8345 - val_loss: 1.3686 - val_accuracy: 0.7160\n",
            "Epoch 16/20\n",
            "63/63 [==============================] - 1s 20ms/step - loss: 0.5522 - accuracy: 0.8406 - val_loss: 1.3981 - val_accuracy: 0.7220\n",
            "Epoch 17/20\n",
            "63/63 [==============================] - 1s 21ms/step - loss: 0.5296 - accuracy: 0.8464 - val_loss: 1.4279 - val_accuracy: 0.7290\n",
            "Epoch 18/20\n",
            "63/63 [==============================] - 1s 20ms/step - loss: 0.5103 - accuracy: 0.8604 - val_loss: 1.4771 - val_accuracy: 0.7230\n",
            "Epoch 19/20\n",
            "63/63 [==============================] - 1s 20ms/step - loss: 0.4894 - accuracy: 0.8611 - val_loss: 1.5279 - val_accuracy: 0.7110\n",
            "Epoch 20/20\n",
            "63/63 [==============================] - 2s 26ms/step - loss: 0.4724 - accuracy: 0.8638 - val_loss: 1.5652 - val_accuracy: 0.7250\n"
          ]
        },
        {
          "output_type": "execute_result",
          "data": {
            "text/plain": [
              "<keras.src.callbacks.History at 0x7943303824a0>"
            ]
          },
          "metadata": {},
          "execution_count": 43
        }
      ],
      "source": [
        "model = keras.Sequential([\n",
        "    layers.Dense(64, activation=\"relu\"),\n",
        "    layers.Dense(4, activation=\"relu\"),\n",
        "    layers.Dense(46, activation=\"softmax\")\n",
        "])\n",
        "model.compile(optimizer=\"rmsprop\",\n",
        "              loss=\"categorical_crossentropy\",\n",
        "              metrics=[\"accuracy\"])\n",
        "model.fit(partial_x_train,\n",
        "          partial_y_train,\n",
        "          epochs=20,\n",
        "          batch_size=128,\n",
        "          validation_data=(x_val, y_val))"
      ]
    },
    {
      "cell_type": "markdown",
      "metadata": {
        "id": "d1jbphN8Ctch"
      },
      "source": [
        "## Predicting house prices: A regression example"
      ]
    },
    {
      "cell_type": "markdown",
      "metadata": {
        "id": "_vL3NpH4Ctch"
      },
      "source": [
        "### The Boston Housing Price dataset"
      ]
    },
    {
      "cell_type": "markdown",
      "metadata": {
        "id": "lfnWoz8UCtch"
      },
      "source": [
        "**Loading the Boston housing dataset**"
      ]
    },
    {
      "cell_type": "code",
      "execution_count": 44,
      "metadata": {
        "id": "r4T3VD1HCtch",
        "colab": {
          "base_uri": "https://localhost:8080/"
        },
        "outputId": "39091625-ad9f-48e7-c18f-913e72235d95"
      },
      "outputs": [
        {
          "output_type": "stream",
          "name": "stdout",
          "text": [
            "Downloading data from https://storage.googleapis.com/tensorflow/tf-keras-datasets/boston_housing.npz\n",
            "57026/57026 [==============================] - 0s 0us/step\n"
          ]
        }
      ],
      "source": [
        "from tensorflow.keras.datasets import boston_housing\n",
        "(train_data, train_targets), (test_data, test_targets) = boston_housing.load_data()"
      ]
    },
    {
      "cell_type": "code",
      "execution_count": 45,
      "metadata": {
        "id": "AlCD1lMFCtch",
        "colab": {
          "base_uri": "https://localhost:8080/"
        },
        "outputId": "51731660-213a-4776-a511-0a4973460b1b"
      },
      "outputs": [
        {
          "output_type": "execute_result",
          "data": {
            "text/plain": [
              "(404, 13)"
            ]
          },
          "metadata": {},
          "execution_count": 45
        }
      ],
      "source": [
        "train_data.shape"
      ]
    },
    {
      "cell_type": "code",
      "execution_count": 46,
      "metadata": {
        "id": "AhpINlQcCtch",
        "colab": {
          "base_uri": "https://localhost:8080/"
        },
        "outputId": "04fae2a4-82d2-4273-935d-52f6054c2504"
      },
      "outputs": [
        {
          "output_type": "execute_result",
          "data": {
            "text/plain": [
              "(102, 13)"
            ]
          },
          "metadata": {},
          "execution_count": 46
        }
      ],
      "source": [
        "test_data.shape"
      ]
    },
    {
      "cell_type": "code",
      "execution_count": 47,
      "metadata": {
        "id": "Ql23FmDbCtch",
        "colab": {
          "base_uri": "https://localhost:8080/"
        },
        "outputId": "f933cd78-ec18-431a-f34f-1a5220a58828"
      },
      "outputs": [
        {
          "output_type": "execute_result",
          "data": {
            "text/plain": [
              "array([15.2, 42.3, 50. , 21.1, 17.7, 18.5, 11.3, 15.6, 15.6, 14.4, 12.1,\n",
              "       17.9, 23.1, 19.9, 15.7,  8.8, 50. , 22.5, 24.1, 27.5, 10.9, 30.8,\n",
              "       32.9, 24. , 18.5, 13.3, 22.9, 34.7, 16.6, 17.5, 22.3, 16.1, 14.9,\n",
              "       23.1, 34.9, 25. , 13.9, 13.1, 20.4, 20. , 15.2, 24.7, 22.2, 16.7,\n",
              "       12.7, 15.6, 18.4, 21. , 30.1, 15.1, 18.7,  9.6, 31.5, 24.8, 19.1,\n",
              "       22. , 14.5, 11. , 32. , 29.4, 20.3, 24.4, 14.6, 19.5, 14.1, 14.3,\n",
              "       15.6, 10.5,  6.3, 19.3, 19.3, 13.4, 36.4, 17.8, 13.5, 16.5,  8.3,\n",
              "       14.3, 16. , 13.4, 28.6, 43.5, 20.2, 22. , 23. , 20.7, 12.5, 48.5,\n",
              "       14.6, 13.4, 23.7, 50. , 21.7, 39.8, 38.7, 22.2, 34.9, 22.5, 31.1,\n",
              "       28.7, 46. , 41.7, 21. , 26.6, 15. , 24.4, 13.3, 21.2, 11.7, 21.7,\n",
              "       19.4, 50. , 22.8, 19.7, 24.7, 36.2, 14.2, 18.9, 18.3, 20.6, 24.6,\n",
              "       18.2,  8.7, 44. , 10.4, 13.2, 21.2, 37. , 30.7, 22.9, 20. , 19.3,\n",
              "       31.7, 32. , 23.1, 18.8, 10.9, 50. , 19.6,  5. , 14.4, 19.8, 13.8,\n",
              "       19.6, 23.9, 24.5, 25. , 19.9, 17.2, 24.6, 13.5, 26.6, 21.4, 11.9,\n",
              "       22.6, 19.6,  8.5, 23.7, 23.1, 22.4, 20.5, 23.6, 18.4, 35.2, 23.1,\n",
              "       27.9, 20.6, 23.7, 28. , 13.6, 27.1, 23.6, 20.6, 18.2, 21.7, 17.1,\n",
              "        8.4, 25.3, 13.8, 22.2, 18.4, 20.7, 31.6, 30.5, 20.3,  8.8, 19.2,\n",
              "       19.4, 23.1, 23. , 14.8, 48.8, 22.6, 33.4, 21.1, 13.6, 32.2, 13.1,\n",
              "       23.4, 18.9, 23.9, 11.8, 23.3, 22.8, 19.6, 16.7, 13.4, 22.2, 20.4,\n",
              "       21.8, 26.4, 14.9, 24.1, 23.8, 12.3, 29.1, 21. , 19.5, 23.3, 23.8,\n",
              "       17.8, 11.5, 21.7, 19.9, 25. , 33.4, 28.5, 21.4, 24.3, 27.5, 33.1,\n",
              "       16.2, 23.3, 48.3, 22.9, 22.8, 13.1, 12.7, 22.6, 15. , 15.3, 10.5,\n",
              "       24. , 18.5, 21.7, 19.5, 33.2, 23.2,  5. , 19.1, 12.7, 22.3, 10.2,\n",
              "       13.9, 16.3, 17. , 20.1, 29.9, 17.2, 37.3, 45.4, 17.8, 23.2, 29. ,\n",
              "       22. , 18. , 17.4, 34.6, 20.1, 25. , 15.6, 24.8, 28.2, 21.2, 21.4,\n",
              "       23.8, 31. , 26.2, 17.4, 37.9, 17.5, 20. ,  8.3, 23.9,  8.4, 13.8,\n",
              "        7.2, 11.7, 17.1, 21.6, 50. , 16.1, 20.4, 20.6, 21.4, 20.6, 36.5,\n",
              "        8.5, 24.8, 10.8, 21.9, 17.3, 18.9, 36.2, 14.9, 18.2, 33.3, 21.8,\n",
              "       19.7, 31.6, 24.8, 19.4, 22.8,  7.5, 44.8, 16.8, 18.7, 50. , 50. ,\n",
              "       19.5, 20.1, 50. , 17.2, 20.8, 19.3, 41.3, 20.4, 20.5, 13.8, 16.5,\n",
              "       23.9, 20.6, 31.5, 23.3, 16.8, 14. , 33.8, 36.1, 12.8, 18.3, 18.7,\n",
              "       19.1, 29. , 30.1, 50. , 50. , 22. , 11.9, 37.6, 50. , 22.7, 20.8,\n",
              "       23.5, 27.9, 50. , 19.3, 23.9, 22.6, 15.2, 21.7, 19.2, 43.8, 20.3,\n",
              "       33.2, 19.9, 22.5, 32.7, 22. , 17.1, 19. , 15. , 16.1, 25.1, 23.7,\n",
              "       28.7, 37.2, 22.6, 16.4, 25. , 29.8, 22.1, 17.4, 18.1, 30.3, 17.5,\n",
              "       24.7, 12.6, 26.5, 28.7, 13.3, 10.4, 24.4, 23. , 20. , 17.8,  7. ,\n",
              "       11.8, 24.4, 13.8, 19.4, 25.2, 19.4, 19.4, 29.1])"
            ]
          },
          "metadata": {},
          "execution_count": 47
        }
      ],
      "source": [
        "train_targets"
      ]
    },
    {
      "cell_type": "markdown",
      "metadata": {
        "id": "WVepXlbjCtch"
      },
      "source": [
        "### Preparing the data"
      ]
    },
    {
      "cell_type": "markdown",
      "metadata": {
        "id": "osByzg7mCtch"
      },
      "source": [
        "**Normalizing the data**"
      ]
    },
    {
      "cell_type": "code",
      "execution_count": 48,
      "metadata": {
        "id": "8grlq_X3Ctci"
      },
      "outputs": [],
      "source": [
        "mean = train_data.mean(axis=0)\n",
        "train_data -= mean\n",
        "std = train_data.std(axis=0)\n",
        "train_data /= std\n",
        "test_data -= mean\n",
        "test_data /= std"
      ]
    },
    {
      "cell_type": "markdown",
      "metadata": {
        "id": "Bz8zdHYrCtci"
      },
      "source": [
        "### Building your model"
      ]
    },
    {
      "cell_type": "markdown",
      "metadata": {
        "id": "uhWC8-zpCtci"
      },
      "source": [
        "**Model definition**"
      ]
    },
    {
      "cell_type": "code",
      "execution_count": 49,
      "metadata": {
        "id": "HIEyKEvECtci"
      },
      "outputs": [],
      "source": [
        "def build_model():\n",
        "    model = keras.Sequential([\n",
        "        layers.Dense(64, activation=\"relu\"),\n",
        "        layers.Dense(64, activation=\"relu\"),\n",
        "        layers.Dense(1)\n",
        "    ])\n",
        "    model.compile(optimizer=\"rmsprop\", loss=\"mse\", metrics=[\"mae\"])\n",
        "    return model"
      ]
    },
    {
      "cell_type": "markdown",
      "metadata": {
        "id": "IRxyrhcZCtci"
      },
      "source": [
        "### Validating your approach using K-fold validation"
      ]
    },
    {
      "cell_type": "markdown",
      "metadata": {
        "id": "uAbI0doUCtci"
      },
      "source": [
        "**K-fold validation**"
      ]
    },
    {
      "cell_type": "code",
      "execution_count": 50,
      "metadata": {
        "id": "eFczwDwQCtci",
        "colab": {
          "base_uri": "https://localhost:8080/"
        },
        "outputId": "60cfc4bf-72c1-4e34-d0ed-873067fb592f"
      },
      "outputs": [
        {
          "output_type": "stream",
          "name": "stdout",
          "text": [
            "Processing fold #0\n",
            "Processing fold #1\n",
            "Processing fold #2\n",
            "Processing fold #3\n"
          ]
        }
      ],
      "source": [
        "k = 4\n",
        "num_val_samples = len(train_data) // k\n",
        "num_epochs = 100\n",
        "all_scores = []\n",
        "for i in range(k):\n",
        "    print(f\"Processing fold #{i}\")\n",
        "    val_data = train_data[i * num_val_samples: (i + 1) * num_val_samples]\n",
        "    val_targets = train_targets[i * num_val_samples: (i + 1) * num_val_samples]\n",
        "    partial_train_data = np.concatenate(\n",
        "        [train_data[:i * num_val_samples],\n",
        "         train_data[(i + 1) * num_val_samples:]],\n",
        "        axis=0)\n",
        "    partial_train_targets = np.concatenate(\n",
        "        [train_targets[:i * num_val_samples],\n",
        "         train_targets[(i + 1) * num_val_samples:]],\n",
        "        axis=0)\n",
        "    model = build_model()\n",
        "    model.fit(partial_train_data, partial_train_targets,\n",
        "              epochs=num_epochs, batch_size=16, verbose=0)\n",
        "    val_mse, val_mae = model.evaluate(val_data, val_targets, verbose=0)\n",
        "    all_scores.append(val_mae)"
      ]
    },
    {
      "cell_type": "code",
      "execution_count": 51,
      "metadata": {
        "id": "Yf_Y3thlCtci",
        "colab": {
          "base_uri": "https://localhost:8080/"
        },
        "outputId": "3aa8e210-fc3f-48e8-d6dc-1f8ab4904f5c"
      },
      "outputs": [
        {
          "output_type": "execute_result",
          "data": {
            "text/plain": [
              "[2.1283421516418457, 2.4737727642059326, 2.374410629272461, 2.4578843116760254]"
            ]
          },
          "metadata": {},
          "execution_count": 51
        }
      ],
      "source": [
        "all_scores"
      ]
    },
    {
      "cell_type": "code",
      "execution_count": 52,
      "metadata": {
        "id": "JpXPaS_JCtci",
        "colab": {
          "base_uri": "https://localhost:8080/"
        },
        "outputId": "e9b15d15-f89f-4c32-ba89-79bfff35ab65"
      },
      "outputs": [
        {
          "output_type": "execute_result",
          "data": {
            "text/plain": [
              "2.358602464199066"
            ]
          },
          "metadata": {},
          "execution_count": 52
        }
      ],
      "source": [
        "np.mean(all_scores)"
      ]
    },
    {
      "cell_type": "markdown",
      "metadata": {
        "id": "NW_Evw_ZCtci"
      },
      "source": [
        "**Saving the validation logs at each fold**"
      ]
    },
    {
      "cell_type": "code",
      "execution_count": 53,
      "metadata": {
        "id": "w4E5d5cpCtci",
        "colab": {
          "base_uri": "https://localhost:8080/"
        },
        "outputId": "173e240b-243a-4538-e4d9-2ff5a30f35f3"
      },
      "outputs": [
        {
          "output_type": "stream",
          "name": "stdout",
          "text": [
            "Processing fold #0\n",
            "Processing fold #1\n",
            "Processing fold #2\n",
            "Processing fold #3\n"
          ]
        }
      ],
      "source": [
        "num_epochs = 500\n",
        "all_mae_histories = []\n",
        "for i in range(k):\n",
        "    print(f\"Processing fold #{i}\")\n",
        "    val_data = train_data[i * num_val_samples: (i + 1) * num_val_samples]\n",
        "    val_targets = train_targets[i * num_val_samples: (i + 1) * num_val_samples]\n",
        "    partial_train_data = np.concatenate(\n",
        "        [train_data[:i * num_val_samples],\n",
        "         train_data[(i + 1) * num_val_samples:]],\n",
        "        axis=0)\n",
        "    partial_train_targets = np.concatenate(\n",
        "        [train_targets[:i * num_val_samples],\n",
        "         train_targets[(i + 1) * num_val_samples:]],\n",
        "        axis=0)\n",
        "    model = build_model()\n",
        "    history = model.fit(partial_train_data, partial_train_targets,\n",
        "                        validation_data=(val_data, val_targets),\n",
        "                        epochs=num_epochs, batch_size=16, verbose=0)\n",
        "    mae_history = history.history[\"val_mae\"]\n",
        "    all_mae_histories.append(mae_history)"
      ]
    },
    {
      "cell_type": "markdown",
      "metadata": {
        "id": "C45C7XnMCtci"
      },
      "source": [
        "**Building the history of successive mean K-fold validation scores**"
      ]
    },
    {
      "cell_type": "code",
      "execution_count": 54,
      "metadata": {
        "id": "3CDXwAwpCtci"
      },
      "outputs": [],
      "source": [
        "average_mae_history = [\n",
        "    np.mean([x[i] for x in all_mae_histories]) for i in range(num_epochs)]"
      ]
    },
    {
      "cell_type": "markdown",
      "metadata": {
        "id": "A35wEo7gCtci"
      },
      "source": [
        "**Plotting validation scores**"
      ]
    },
    {
      "cell_type": "code",
      "execution_count": 55,
      "metadata": {
        "id": "aNvSeBPmCtci",
        "colab": {
          "base_uri": "https://localhost:8080/",
          "height": 450
        },
        "outputId": "09988f43-3939-4716-8678-73d7bd36e1c9"
      },
      "outputs": [
        {
          "output_type": "display_data",
          "data": {
            "text/plain": [
              "<Figure size 640x480 with 1 Axes>"
            ],
            "image/png": "[encoded data removed]"
          },
          "metadata": {}
        }
      ],
      "source": [
        "plt.plot(range(1, len(average_mae_history) + 1), average_mae_history)\n",
        "plt.xlabel(\"Epochs\")\n",
        "plt.ylabel(\"Validation MAE\")\n",
        "plt.show()"
      ]
    },
    {
      "cell_type": "markdown",
      "metadata": {
        "id": "XpKhtgiECtci"
      },
      "source": [
        "**Plotting validation scores, excluding the first 10 data points**"
      ]
    },
    {
      "cell_type": "code",
      "execution_count": 56,
      "metadata": {
        "id": "Yrmv8Ql3Ctci",
        "colab": {
          "base_uri": "https://localhost:8080/",
          "height": 451
        },
        "outputId": "0efb52d6-e954-415f-bdce-f086401d7763"
      },
      "outputs": [
        {
          "output_type": "display_data",
          "data": {
            "text/plain": [
              "<Figure size 640x480 with 1 Axes>"
            ],
            "image/png": "[encoded data removed]"
          },
          "metadata": {}
        }
      ],
      "source": [
        "truncated_mae_history = average_mae_history[10:]\n",
        "plt.plot(range(1, len(truncated_mae_history) + 1), truncated_mae_history)\n",
        "plt.xlabel(\"Epochs\")\n",
        "plt.ylabel(\"Validation MAE\")\n",
        "plt.show()"
      ]
    },
    {
      "cell_type": "markdown",
      "metadata": {
        "id": "kJezdBOSCtci"
      },
      "source": [
        "**Training the final model**"
      ]
    },
    {
      "cell_type": "code",
      "execution_count": 57,
      "metadata": {
        "id": "6x9MdAAZCtcj",
        "colab": {
          "base_uri": "https://localhost:8080/"
        },
        "outputId": "3325311f-c08f-43a8-d591-1a609b2cba9d"
      },
      "outputs": [
        {
          "output_type": "stream",
          "name": "stdout",
          "text": [
            "4/4 [==============================] - 0s 4ms/step - loss: 16.3339 - mae: 2.5260\n"
          ]
        }
      ],
      "source": [
        "model = build_model()\n",
        "model.fit(train_data, train_targets,\n",
        "          epochs=130, batch_size=16, verbose=0)\n",
        "test_mse_score, test_mae_score = model.evaluate(test_data, test_targets)"
      ]
    },
    {
      "cell_type": "code",
      "execution_count": 58,
      "metadata": {
        "id": "s5GF3TdlCtcj",
        "colab": {
          "base_uri": "https://localhost:8080/"
        },
        "outputId": "cb4e961f-ba6e-4f79-a3c8-0fb983370d72"
      },
      "outputs": [
        {
          "output_type": "execute_result",
          "data": {
            "text/plain": [
              "2.5259764194488525"
            ]
          },
          "metadata": {},
          "execution_count": 58
        }
      ],
      "source": [
        "test_mae_score"
      ]
    },
    {
      "cell_type": "markdown",
      "metadata": {
        "id": "8K-8-14JCtcj"
      },
      "source": [
        "### Generating predictions on new data"
      ]
    },
    {
      "cell_type": "code",
      "execution_count": 59,
      "metadata": {
        "id": "9UlKdRewCtcj",
        "colab": {
          "base_uri": "https://localhost:8080/"
        },
        "outputId": "490513bd-4ab9-42e1-e836-77d5e114530b"
      },
      "outputs": [
        {
          "output_type": "stream",
          "name": "stdout",
          "text": [
            "4/4 [==============================] - 0s 3ms/step\n"
          ]
        },
        {
          "output_type": "execute_result",
          "data": {
            "text/plain": [
              "array([8.133683], dtype=float32)"
            ]
          },
          "metadata": {},
          "execution_count": 59
        }
      ],
      "source": [
        "predictions = model.predict(test_data)\n",
        "predictions[0]"
      ]
    }
  ],
  "metadata": {
    "colab": {
      "provenance": [],
      "toc_visible": true
    },
    "kernelspec": {
      "display_name": "Python 3",
      "language": "python",
      "name": "python3"
    },
    "language_info": {
      "codemirror_mode": {
        "name": "ipython",
        "version": 3
      },
      "file_extension": ".py",
      "mimetype": "text/x-python",
      "name": "python",
      "nbconvert_exporter": "python",
      "pygments_lexer": "ipython3",
      "version": "3.7.0"
    }
  },
  "nbformat": 4,
  "nbformat_minor": 0
}