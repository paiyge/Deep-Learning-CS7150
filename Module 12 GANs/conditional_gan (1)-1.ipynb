{
  "cells": [
    {
      "cell_type": "code",
      "execution_count": 1,
      "metadata": {
        "id": "j2l9DQQzMdKk",
        "colab": {
          "base_uri": "https://localhost:8080/"
        },
        "outputId": "756e8912-b46f-489d-f081-26e9a62c97fd"
      },
      "outputs": [
        {
          "output_type": "stream",
          "name": "stdout",
          "text": [
            "  Preparing metadata (setup.py) ... \u001b[?25l\u001b[?25hdone\n"
          ]
        }
      ],
      "source": [
        "!pip install -q git+https://github.com/tensorflow/docs"
      ]
    },
    {
      "cell_type": "markdown",
      "metadata": {
        "id": "LeuMfqghMdKk"
      },
      "source": [
        "## Imports"
      ]
    },
    {
      "cell_type": "code",
      "execution_count": 2,
      "metadata": {
        "id": "CdLjtcneMdKk",
        "colab": {
          "base_uri": "https://localhost:8080/"
        },
        "outputId": "f52c23be-edf3-409d-9423-7ef82085c967"
      },
      "outputs": [
        {
          "output_type": "stream",
          "name": "stdout",
          "text": [
            "Requirement already satisfied: keras-nightly in /usr/local/lib/python3.10/dist-packages (3.2.0.dev2024040303)\n",
            "Requirement already satisfied: absl-py in /usr/local/lib/python3.10/dist-packages (from keras-nightly) (1.4.0)\n",
            "Requirement already satisfied: numpy in /usr/local/lib/python3.10/dist-packages (from keras-nightly) (1.25.2)\n",
            "Requirement already satisfied: rich in /usr/local/lib/python3.10/dist-packages (from keras-nightly) (13.7.1)\n",
            "Requirement already satisfied: namex in /usr/local/lib/python3.10/dist-packages (from keras-nightly) (0.0.7)\n",
            "Requirement already satisfied: h5py in /usr/local/lib/python3.10/dist-packages (from keras-nightly) (3.9.0)\n",
            "Requirement already satisfied: optree in /usr/local/lib/python3.10/dist-packages (from keras-nightly) (0.11.0)\n",
            "Requirement already satisfied: ml-dtypes in /usr/local/lib/python3.10/dist-packages (from keras-nightly) (0.2.0)\n",
            "Requirement already satisfied: typing-extensions>=4.0.0 in /usr/local/lib/python3.10/dist-packages (from optree->keras-nightly) (4.10.0)\n",
            "Requirement already satisfied: markdown-it-py>=2.2.0 in /usr/local/lib/python3.10/dist-packages (from rich->keras-nightly) (3.0.0)\n",
            "Requirement already satisfied: pygments<3.0.0,>=2.13.0 in /usr/local/lib/python3.10/dist-packages (from rich->keras-nightly) (2.16.1)\n",
            "Requirement already satisfied: mdurl~=0.1 in /usr/local/lib/python3.10/dist-packages (from markdown-it-py>=2.2.0->rich->keras-nightly) (0.1.2)\n"
          ]
        }
      ],
      "source": [
        "import keras\n",
        "!pip install keras-nightly\n",
        "from keras import layers\n",
        "from keras import ops\n",
        "from tensorflow_docs.vis import embed\n",
        "import tensorflow as tf\n",
        "import numpy as np\n",
        "import imageio"
      ]
    },
    {
      "cell_type": "markdown",
      "metadata": {
        "id": "UfMQkStxMdKk"
      },
      "source": [
        "## Constants and hyperparameters"
      ]
    },
    {
      "cell_type": "code",
      "execution_count": 3,
      "metadata": {
        "id": "kkukuKO7MdKl"
      },
      "outputs": [],
      "source": [
        "batch_size = 64\n",
        "num_channels = 1\n",
        "num_classes = 10\n",
        "image_size = 28\n",
        "latent_dim = 128"
      ]
    },
    {
      "cell_type": "markdown",
      "metadata": {
        "id": "y_a3OgGgMdKl"
      },
      "source": [
        "## Loading the MNIST dataset and preprocessing it"
      ]
    },
    {
      "cell_type": "code",
      "execution_count": 4,
      "metadata": {
        "id": "WEJ6C51VMdKl",
        "colab": {
          "base_uri": "https://localhost:8080/"
        },
        "outputId": "9cd06011-7e93-4e47-9073-588b78cca50e"
      },
      "outputs": [
        {
          "output_type": "stream",
          "name": "stdout",
          "text": [
            "Downloading data from https://storage.googleapis.com/tensorflow/tf-keras-datasets/mnist.npz\n",
            "\u001b[1m11490434/11490434\u001b[0m \u001b[32m━━━━━━━━━━━━━━━━━━━━\u001b[0m\u001b[37m\u001b[0m \u001b[1m0s\u001b[0m 0us/step\n",
            "Shape of training images: (70000, 28, 28, 1)\n",
            "Shape of training labels: (70000, 10)\n"
          ]
        }
      ],
      "source": [
        "# We'll use all the available examples from both the training and test\n",
        "# sets.\n",
        "(x_train, y_train), (x_test, y_test) = keras.datasets.mnist.load_data()\n",
        "all_digits = np.concatenate([x_train, x_test])\n",
        "all_labels = np.concatenate([y_train, y_test])\n",
        "\n",
        "# Scale the pixel values to [0, 1] range, add a channel dimension to\n",
        "# the images, and one-hot encode the labels.\n",
        "all_digits = all_digits.astype(\"float32\") / 255.0\n",
        "all_digits = np.reshape(all_digits, (-1, 28, 28, 1))\n",
        "all_labels = keras.utils.to_categorical(all_labels, 10)\n",
        "\n",
        "# Create tf.data.Dataset.\n",
        "dataset = tf.data.Dataset.from_tensor_slices((all_digits, all_labels))\n",
        "dataset = dataset.shuffle(buffer_size=1024).batch(batch_size)\n",
        "\n",
        "print(f\"Shape of training images: {all_digits.shape}\")\n",
        "print(f\"Shape of training labels: {all_labels.shape}\")"
      ]
    },
    {
      "cell_type": "markdown",
      "metadata": {
        "id": "wtT_48tKMdKl"
      },
      "source": [
        "## Calculating the number of input channel for the generator and discriminator\n",
        "\n",
        "In a regular (unconditional) GAN, we start by sampling noise (of some fixed\n",
        "dimension) from a normal distribution. In our case, we also need to account\n",
        "for the class labels. We will have to add the number of classes to\n",
        "the input channels of the generator (noise input) as well as the discriminator\n",
        "(generated image input)."
      ]
    },
    {
      "cell_type": "code",
      "execution_count": 5,
      "metadata": {
        "id": "sJQoCmnsMdKl",
        "colab": {
          "base_uri": "https://localhost:8080/"
        },
        "outputId": "fcfcfc15-6a83-46a3-abef-a2d5753e6d31"
      },
      "outputs": [
        {
          "output_type": "stream",
          "name": "stdout",
          "text": [
            "138 11\n"
          ]
        }
      ],
      "source": [
        "generator_in_channels = latent_dim + num_classes\n",
        "discriminator_in_channels = num_channels + num_classes\n",
        "print(generator_in_channels, discriminator_in_channels)"
      ]
    },
    {
      "cell_type": "markdown",
      "metadata": {
        "id": "Wd8SDQP0MdKl"
      },
      "source": [
        "## Creating the discriminator and generator\n",
        "\n",
        "The model definitions (`discriminator`, `generator`, and `ConditionalGAN`) have been\n",
        "adapted from [this example](https://keras.io/guides/customizing_what_happens_in_fit/)."
      ]
    },
    {
      "cell_type": "code",
      "execution_count": 6,
      "metadata": {
        "id": "p-fEJXEMMdKl"
      },
      "outputs": [],
      "source": [
        "# Create the discriminator.\n",
        "discriminator = keras.Sequential(\n",
        "    [\n",
        "        keras.layers.InputLayer((28, 28, discriminator_in_channels)),\n",
        "        layers.Conv2D(64, (3, 3), strides=(2, 2), padding=\"same\"),\n",
        "        layers.LeakyReLU(negative_slope=0.2),\n",
        "        layers.Conv2D(128, (3, 3), strides=(2, 2), padding=\"same\"),\n",
        "        layers.LeakyReLU(negative_slope=0.2),\n",
        "        layers.GlobalMaxPooling2D(),\n",
        "        layers.Dense(1),\n",
        "    ],\n",
        "    name=\"discriminator\",\n",
        ")\n",
        "\n",
        "# Create the generator.\n",
        "generator = keras.Sequential(\n",
        "    [\n",
        "        keras.layers.InputLayer((generator_in_channels,)),\n",
        "        # We want to generate 128 + num_classes coefficients to reshape into a\n",
        "        # 7x7x(128 + num_classes) map.\n",
        "        layers.Dense(7 * 7 * generator_in_channels),\n",
        "        layers.LeakyReLU(negative_slope=0.2),\n",
        "        layers.Reshape((7, 7, generator_in_channels)),\n",
        "        layers.Conv2DTranspose(128, (4, 4), strides=(2, 2), padding=\"same\"),\n",
        "        layers.LeakyReLU(negative_slope=0.2),\n",
        "        layers.Conv2DTranspose(128, (4, 4), strides=(2, 2), padding=\"same\"),\n",
        "        layers.LeakyReLU(negative_slope=0.2),\n",
        "        layers.Conv2D(1, (7, 7), padding=\"same\", activation=\"sigmoid\"),\n",
        "    ],\n",
        "    name=\"generator\",\n",
        ")"
      ]
    },
    {
      "cell_type": "markdown",
      "metadata": {
        "id": "2wTwzmDlMdKl"
      },
      "source": [
        "## Creating a `ConditionalGAN` model"
      ]
    },
    {
      "cell_type": "code",
      "execution_count": 7,
      "metadata": {
        "id": "f5QQhZ8rMdKl"
      },
      "outputs": [],
      "source": [
        "\n",
        "class ConditionalGAN(keras.Model):\n",
        "    def __init__(self, discriminator, generator, latent_dim):\n",
        "        super().__init__()\n",
        "        self.discriminator = discriminator\n",
        "        self.generator = generator\n",
        "        self.latent_dim = latent_dim\n",
        "        self.seed_generator = keras.random.SeedGenerator(1337)\n",
        "        self.gen_loss_tracker = keras.metrics.Mean(name=\"generator_loss\")\n",
        "        self.disc_loss_tracker = keras.metrics.Mean(name=\"discriminator_loss\")\n",
        "\n",
        "    @property\n",
        "    def metrics(self):\n",
        "        return [self.gen_loss_tracker, self.disc_loss_tracker]\n",
        "\n",
        "    def compile(self, d_optimizer, g_optimizer, loss_fn):\n",
        "        super().compile()\n",
        "        self.d_optimizer = d_optimizer\n",
        "        self.g_optimizer = g_optimizer\n",
        "        self.loss_fn = loss_fn\n",
        "\n",
        "    def train_step(self, data):\n",
        "        # Unpack the data.\n",
        "        real_images, one_hot_labels = data\n",
        "\n",
        "        # Add dummy dimensions to the labels so that they can be concatenated with\n",
        "        # the images. This is for the discriminator.\n",
        "        image_one_hot_labels = one_hot_labels[:, :, None, None]\n",
        "        image_one_hot_labels = ops.repeat(\n",
        "            image_one_hot_labels, repeats=[image_size * image_size]\n",
        "        )\n",
        "        image_one_hot_labels = ops.reshape(\n",
        "            image_one_hot_labels, (-1, image_size, image_size, num_classes)\n",
        "        )\n",
        "\n",
        "        # Sample random points in the latent space and concatenate the labels.\n",
        "        # This is for the generator.\n",
        "        batch_size = ops.shape(real_images)[0]\n",
        "        random_latent_vectors = keras.random.normal(\n",
        "            shape=(batch_size, self.latent_dim), seed=self.seed_generator\n",
        "        )\n",
        "        random_vector_labels = ops.concatenate(\n",
        "            [random_latent_vectors, one_hot_labels], axis=1\n",
        "        )\n",
        "\n",
        "        # Decode the noise (guided by labels) to fake images.\n",
        "        generated_images = self.generator(random_vector_labels)\n",
        "\n",
        "        # Combine them with real images. Note that we are concatenating the labels\n",
        "        # with these images here.\n",
        "        fake_image_and_labels = ops.concatenate(\n",
        "            [generated_images, image_one_hot_labels], -1\n",
        "        )\n",
        "        real_image_and_labels = ops.concatenate([real_images, image_one_hot_labels], -1)\n",
        "        combined_images = ops.concatenate(\n",
        "            [fake_image_and_labels, real_image_and_labels], axis=0\n",
        "        )\n",
        "\n",
        "        # Assemble labels discriminating real from fake images.\n",
        "        labels = ops.concatenate(\n",
        "            [ops.ones((batch_size, 1)), ops.zeros((batch_size, 1))], axis=0\n",
        "        )\n",
        "\n",
        "        # Train the discriminator.\n",
        "        with tf.GradientTape() as tape:\n",
        "            predictions = self.discriminator(combined_images)\n",
        "            d_loss = self.loss_fn(labels, predictions)\n",
        "        grads = tape.gradient(d_loss, self.discriminator.trainable_weights)\n",
        "        self.d_optimizer.apply_gradients(\n",
        "            zip(grads, self.discriminator.trainable_weights)\n",
        "        )\n",
        "\n",
        "        # Sample random points in the latent space.\n",
        "        random_latent_vectors = keras.random.normal(\n",
        "            shape=(batch_size, self.latent_dim), seed=self.seed_generator\n",
        "        )\n",
        "        random_vector_labels = ops.concatenate(\n",
        "            [random_latent_vectors, one_hot_labels], axis=1\n",
        "        )\n",
        "\n",
        "        # Assemble labels that say \"all real images\".\n",
        "        misleading_labels = ops.zeros((batch_size, 1))\n",
        "\n",
        "        # Train the generator (note that we should *not* update the weights\n",
        "        # of the discriminator)!\n",
        "        with tf.GradientTape() as tape:\n",
        "            fake_images = self.generator(random_vector_labels)\n",
        "            fake_image_and_labels = ops.concatenate(\n",
        "                [fake_images, image_one_hot_labels], -1\n",
        "            )\n",
        "            predictions = self.discriminator(fake_image_and_labels)\n",
        "            g_loss = self.loss_fn(misleading_labels, predictions)\n",
        "        grads = tape.gradient(g_loss, self.generator.trainable_weights)\n",
        "        self.g_optimizer.apply_gradients(zip(grads, self.generator.trainable_weights))\n",
        "\n",
        "        # Monitor loss.\n",
        "        self.gen_loss_tracker.update_state(g_loss)\n",
        "        self.disc_loss_tracker.update_state(d_loss)\n",
        "        return {\n",
        "            \"g_loss\": self.gen_loss_tracker.result(),\n",
        "            \"d_loss\": self.disc_loss_tracker.result(),\n",
        "        }\n"
      ]
    },
    {
      "cell_type": "markdown",
      "metadata": {
        "id": "0jpXUWvKMdKl"
      },
      "source": [
        "## Training the Conditional GAN"
      ]
    },
    {
      "cell_type": "code",
      "execution_count": 8,
      "metadata": {
        "id": "aLrxiU4eMdKm",
        "colab": {
          "base_uri": "https://localhost:8080/"
        },
        "outputId": "3e5a0b3c-423b-4027-c96d-bc9d9252bb0c"
      },
      "outputs": [
        {
          "output_type": "stream",
          "name": "stdout",
          "text": [
            "Epoch 1/20\n",
            "\u001b[1m1094/1094\u001b[0m \u001b[32m━━━━━━━━━━━━━━━━━━━━\u001b[0m\u001b[37m\u001b[0m \u001b[1m48s\u001b[0m 28ms/step - d_loss: 0.4823 - g_loss: 1.3483 - discriminator_loss: 0.4805 - generator_loss: 1.3319\n",
            "Epoch 2/20\n",
            "\u001b[1m1094/1094\u001b[0m \u001b[32m━━━━━━━━━━━━━━━━━━━━\u001b[0m\u001b[37m\u001b[0m \u001b[1m65s\u001b[0m 23ms/step - d_loss: 0.5551 - g_loss: 1.1382 - discriminator_loss: 0.5584 - generator_loss: 1.1380\n",
            "Epoch 3/20\n",
            "\u001b[1m1094/1094\u001b[0m \u001b[32m━━━━━━━━━━━━━━━━━━━━\u001b[0m\u001b[37m\u001b[0m \u001b[1m42s\u001b[0m 24ms/step - d_loss: 0.4684 - g_loss: 1.3921 - discriminator_loss: 0.3925 - generator_loss: 1.6439\n",
            "Epoch 4/20\n",
            "\u001b[1m1094/1094\u001b[0m \u001b[32m━━━━━━━━━━━━━━━━━━━━\u001b[0m\u001b[37m\u001b[0m \u001b[1m42s\u001b[0m 24ms/step - d_loss: 0.2075 - g_loss: 2.1798 - discriminator_loss: 0.1783 - generator_loss: 2.3767\n",
            "Epoch 5/20\n",
            "\u001b[1m1094/1094\u001b[0m \u001b[32m━━━━━━━━━━━━━━━━━━━━\u001b[0m\u001b[37m\u001b[0m \u001b[1m27s\u001b[0m 24ms/step - d_loss: 0.4827 - g_loss: 1.5703 - discriminator_loss: 0.5643 - generator_loss: 1.2794\n",
            "Epoch 6/20\n",
            "\u001b[1m1094/1094\u001b[0m \u001b[32m━━━━━━━━━━━━━━━━━━━━\u001b[0m\u001b[37m\u001b[0m \u001b[1m40s\u001b[0m 24ms/step - d_loss: 0.6374 - g_loss: 0.9491 - discriminator_loss: 0.6406 - generator_loss: 0.9448\n",
            "Epoch 7/20\n",
            "\u001b[1m1094/1094\u001b[0m \u001b[32m━━━━━━━━━━━━━━━━━━━━\u001b[0m\u001b[37m\u001b[0m \u001b[1m42s\u001b[0m 25ms/step - d_loss: 0.6563 - g_loss: 0.8790 - discriminator_loss: 0.6648 - generator_loss: 0.8596\n",
            "Epoch 8/20\n",
            "\u001b[1m1094/1094\u001b[0m \u001b[32m━━━━━━━━━━━━━━━━━━━━\u001b[0m\u001b[37m\u001b[0m \u001b[1m26s\u001b[0m 24ms/step - d_loss: 0.6719 - g_loss: 0.8357 - discriminator_loss: 0.6777 - generator_loss: 0.8119\n",
            "Epoch 9/20\n",
            "\u001b[1m1094/1094\u001b[0m \u001b[32m━━━━━━━━━━━━━━━━━━━━\u001b[0m\u001b[37m\u001b[0m \u001b[1m40s\u001b[0m 24ms/step - d_loss: 0.6816 - g_loss: 0.7867 - discriminator_loss: 0.6830 - generator_loss: 0.7778\n",
            "Epoch 10/20\n",
            "\u001b[1m1094/1094\u001b[0m \u001b[32m━━━━━━━━━━━━━━━━━━━━\u001b[0m\u001b[37m\u001b[0m \u001b[1m42s\u001b[0m 24ms/step - d_loss: 0.6886 - g_loss: 0.7647 - discriminator_loss: 0.6884 - generator_loss: 0.7601\n",
            "Epoch 11/20\n",
            "\u001b[1m1094/1094\u001b[0m \u001b[32m━━━━━━━━━━━━━━━━━━━━\u001b[0m\u001b[37m\u001b[0m \u001b[1m41s\u001b[0m 24ms/step - d_loss: 0.6836 - g_loss: 0.7633 - discriminator_loss: 0.6849 - generator_loss: 0.7600\n",
            "Epoch 12/20\n",
            "\u001b[1m1094/1094\u001b[0m \u001b[32m━━━━━━━━━━━━━━━━━━━━\u001b[0m\u001b[37m\u001b[0m \u001b[1m26s\u001b[0m 24ms/step - d_loss: 0.6857 - g_loss: 0.7531 - discriminator_loss: 0.6874 - generator_loss: 0.7456\n",
            "Epoch 13/20\n",
            "\u001b[1m1094/1094\u001b[0m \u001b[32m━━━━━━━━━━━━━━━━━━━━\u001b[0m\u001b[37m\u001b[0m \u001b[1m41s\u001b[0m 24ms/step - d_loss: 0.6906 - g_loss: 0.7344 - discriminator_loss: 0.6882 - generator_loss: 0.7350\n",
            "Epoch 14/20\n",
            "\u001b[1m1094/1094\u001b[0m \u001b[32m━━━━━━━━━━━━━━━━━━━━\u001b[0m\u001b[37m\u001b[0m \u001b[1m27s\u001b[0m 24ms/step - d_loss: 0.6848 - g_loss: 0.7414 - discriminator_loss: 0.6835 - generator_loss: 0.7379\n",
            "Epoch 15/20\n",
            "\u001b[1m1094/1094\u001b[0m \u001b[32m━━━━━━━━━━━━━━━━━━━━\u001b[0m\u001b[37m\u001b[0m \u001b[1m40s\u001b[0m 24ms/step - d_loss: 0.6816 - g_loss: 0.7456 - discriminator_loss: 0.6811 - generator_loss: 0.7414\n",
            "Epoch 16/20\n",
            "\u001b[1m1094/1094\u001b[0m \u001b[32m━━━━━━━━━━━━━━━━━━━━\u001b[0m\u001b[37m\u001b[0m \u001b[1m27s\u001b[0m 25ms/step - d_loss: 0.6850 - g_loss: 0.7388 - discriminator_loss: 0.6809 - generator_loss: 0.7406\n",
            "Epoch 17/20\n",
            "\u001b[1m1094/1094\u001b[0m \u001b[32m━━━━━━━━━━━━━━━━━━━━\u001b[0m\u001b[37m\u001b[0m \u001b[1m40s\u001b[0m 24ms/step - d_loss: 0.6764 - g_loss: 0.7540 - discriminator_loss: 0.6749 - generator_loss: 0.7542\n",
            "Epoch 18/20\n",
            "\u001b[1m1094/1094\u001b[0m \u001b[32m━━━━━━━━━━━━━━━━━━━━\u001b[0m\u001b[37m\u001b[0m \u001b[1m27s\u001b[0m 24ms/step - d_loss: 0.6772 - g_loss: 0.7494 - discriminator_loss: 0.6686 - generator_loss: 0.7597\n",
            "Epoch 19/20\n",
            "\u001b[1m1094/1094\u001b[0m \u001b[32m━━━━━━━━━━━━━━━━━━━━\u001b[0m\u001b[37m\u001b[0m \u001b[1m40s\u001b[0m 24ms/step - d_loss: 0.6677 - g_loss: 0.7607 - discriminator_loss: 0.6601 - generator_loss: 0.7730\n",
            "Epoch 20/20\n",
            "\u001b[1m1094/1094\u001b[0m \u001b[32m━━━━━━━━━━━━━━━━━━━━\u001b[0m\u001b[37m\u001b[0m \u001b[1m42s\u001b[0m 24ms/step - d_loss: 0.6602 - g_loss: 0.7794 - discriminator_loss: 0.6530 - generator_loss: 0.7897\n"
          ]
        },
        {
          "output_type": "execute_result",
          "data": {
            "text/plain": [
              "<keras.src.callbacks.history.History at 0x7e89ee0737c0>"
            ]
          },
          "metadata": {},
          "execution_count": 8
        }
      ],
      "source": [
        "cond_gan = ConditionalGAN(\n",
        "    discriminator=discriminator, generator=generator, latent_dim=latent_dim\n",
        ")\n",
        "cond_gan.compile(\n",
        "    d_optimizer=keras.optimizers.Adam(learning_rate=0.0003),\n",
        "    g_optimizer=keras.optimizers.Adam(learning_rate=0.0003),\n",
        "    loss_fn=keras.losses.BinaryCrossentropy(from_logits=True),\n",
        ")\n",
        "\n",
        "cond_gan.fit(dataset, epochs=20)"
      ]
    },
    {
      "cell_type": "markdown",
      "metadata": {
        "id": "jdqpJ9nBMdKm"
      },
      "source": [
        "## Interpolating between classes with the trained generator"
      ]
    },
    {
      "cell_type": "code",
      "execution_count": 9,
      "metadata": {
        "id": "2_OoCeKsMdKm",
        "colab": {
          "base_uri": "https://localhost:8080/"
        },
        "outputId": "5ec64024-1ff2-43df-a5be-999bf570940c"
      },
      "outputs": [
        {
          "output_type": "stream",
          "name": "stdout",
          "text": [
            "\u001b[1m1/1\u001b[0m \u001b[32m━━━━━━━━━━━━━━━━━━━━\u001b[0m\u001b[37m\u001b[0m \u001b[1m1s\u001b[0m 882ms/step\n"
          ]
        }
      ],
      "source": [
        "# We first extract the trained generator from our Conditional GAN.\n",
        "trained_gen = cond_gan.generator\n",
        "\n",
        "# Choose the number of intermediate images that would be generated in\n",
        "# between the interpolation + 2 (start and last images).\n",
        "num_interpolation = 9  # @param {type:\"integer\"}\n",
        "\n",
        "# Sample noise for the interpolation.\n",
        "interpolation_noise = keras.random.normal(shape=(1, latent_dim))\n",
        "interpolation_noise = ops.repeat(interpolation_noise, repeats=num_interpolation)\n",
        "interpolation_noise = ops.reshape(interpolation_noise, (num_interpolation, latent_dim))\n",
        "\n",
        "\n",
        "def interpolate_class(first_number, second_number):\n",
        "    # Convert the start and end labels to one-hot encoded vectors.\n",
        "    first_label = keras.utils.to_categorical([first_number], num_classes)\n",
        "    second_label = keras.utils.to_categorical([second_number], num_classes)\n",
        "    first_label = ops.cast(first_label, \"float32\")\n",
        "    second_label = ops.cast(second_label, \"float32\")\n",
        "\n",
        "    # Calculate the interpolation vector between the two labels.\n",
        "    percent_second_label = ops.linspace(0, 1, num_interpolation)[:, None]\n",
        "    percent_second_label = ops.cast(percent_second_label, \"float32\")\n",
        "    interpolation_labels = (\n",
        "        first_label * (1 - percent_second_label) + second_label * percent_second_label\n",
        "    )\n",
        "\n",
        "    # Combine the noise and the labels and run inference with the generator.\n",
        "    noise_and_labels = ops.concatenate([interpolation_noise, interpolation_labels], 1)\n",
        "    fake = trained_gen.predict(noise_and_labels)\n",
        "    return fake\n",
        "\n",
        "\n",
        "start_class = 2  # @param {type:\"slider\", min:0, max:9, step:1}\n",
        "end_class = 6  # @param {type:\"slider\", min:0, max:9, step:1}\n",
        "\n",
        "fake_images = interpolate_class(start_class, end_class)"
      ]
    },
    {
      "cell_type": "markdown",
      "metadata": {
        "id": "dsWOUHPAMdKm"
      },
      "source": [
        "Here, we first sample noise from a normal distribution and then we repeat that for\n",
        "`num_interpolation` times and reshape the result accordingly.\n",
        "We then distribute it uniformly for `num_interpolation`\n",
        "with the label identities being present in some proportion."
      ]
    },
    {
      "cell_type": "code",
      "execution_count": 10,
      "metadata": {
        "id": "aL4ZjRAKMdKm",
        "colab": {
          "base_uri": "https://localhost:8080/",
          "height": 117
        },
        "outputId": "16421e2e-eaed-4f32-9f34-f49d1260137e"
      },
      "outputs": [
        {
          "output_type": "execute_result",
          "data": {
            "text/plain": [
              "<IPython.core.display.HTML object>"
            ],
            "text/html": [
              "<img src=\"data:image/gif;base64,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\"/>"
            ]
          },
          "metadata": {},
          "execution_count": 10
        }
      ],
      "source": [
        "fake_images *= 255.0\n",
        "converted_images = fake_images.astype(np.uint8)\n",
        "converted_images = ops.image.resize(converted_images, (96, 96)).numpy().astype(np.uint8)\n",
        "imageio.mimsave(\"animation.gif\", converted_images[:, :, :, 0], fps=1)\n",
        "embed.embed_file(\"animation.gif\")"
      ]
    }
  ],
  "metadata": {
    "accelerator": "GPU",
    "colab": {
      "provenance": []
    },
    "kernelspec": {
      "display_name": "Python 3",
      "language": "python",
      "name": "python3"
    },
    "language_info": {
      "codemirror_mode": {
        "name": "ipython",
        "version": 3
      },
      "file_extension": ".py",
      "mimetype": "text/x-python",
      "name": "python",
      "nbconvert_exporter": "python",
      "pygments_lexer": "ipython3",
      "version": "3.7.0"
    }
  },
  "nbformat": 4,
  "nbformat_minor": 0
}