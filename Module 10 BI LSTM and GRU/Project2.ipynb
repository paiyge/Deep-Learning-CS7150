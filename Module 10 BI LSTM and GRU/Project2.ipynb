{
  "nbformat": 4,
  "nbformat_minor": 0,
  "metadata": {
    "colab": {
      "provenance": []
    },
    "kernelspec": {
      "display_name": "Python 3",
      "language": "python",
      "name": "python3"
    },
    "accelerator": "GPU"
  },
  "cells": [
    {
      "metadata": {
        "id": "S7sHoQ5tkX6m",
        "outputId": "9f33d84f-819c-4d38-e564-9c4cac13c419",
        "colab": {
          "base_uri": "https://localhost:8080/",
          "height": 34
        }
      },
      "cell_type": "code",
      "source": [
        "import pandas as pd\n",
        "from keras.layers import Bidirectional, GlobalMaxPool1D, MaxPooling1D, Add, Flatten"
      ],
      "execution_count": null,
      "outputs": [
        {
          "output_type": "stream",
          "text": [
            "Using TensorFlow backend.\n"
          ],
          "name": "stderr"
        }
      ]
    },
    {
      "metadata": {
        "id": "MwF7rxSPkiGU"
      },
      "cell_type": "code",
      "source": [
        "## Loading Data into Google colab from Drive"
      ],
      "execution_count": null,
      "outputs": []
    },
    {
      "metadata": {
        "id": "dMOFX_XIklMI"
      },
      "cell_type": "code",
      "source": [
        "#from google.colab import files\n",
        "#uploaded = files.upload()\n"
      ],
      "execution_count": null,
      "outputs": []
    },
    {
      "metadata": {
        "id": "8OzqABHmksvs",
        "outputId": "cf9ca7c8-5b18-42c1-990a-30c4154a2470",
        "colab": {
          "base_uri": "https://localhost:8080/",
          "height": 204
        }
      },
      "cell_type": "code",
      "source": [
        "data=pd.read_csv(\"daily_GOOGL.csv\")\n",
        "data.head()"
      ],
      "execution_count": null,
      "outputs": [
        {
          "output_type": "execute_result",
          "data": {
            "text/html": [
              "<div>\n",
              "<style scoped>\n",
              "    .dataframe tbody tr th:only-of-type {\n",
              "        vertical-align: middle;\n",
              "    }\n",
              "\n",
              "    .dataframe tbody tr th {\n",
              "        vertical-align: top;\n",
              "    }\n",
              "\n",
              "    .dataframe thead th {\n",
              "        text-align: right;\n",
              "    }\n",
              "</style>\n",
              "<table border=\"1\" class=\"dataframe\">\n",
              "  <thead>\n",
              "    <tr style=\"text-align: right;\">\n",
              "      <th></th>\n",
              "      <th>timestamp</th>\n",
              "      <th>open</th>\n",
              "      <th>high</th>\n",
              "      <th>low</th>\n",
              "      <th>close</th>\n",
              "      <th>volume</th>\n",
              "    </tr>\n",
              "  </thead>\n",
              "  <tbody>\n",
              "    <tr>\n",
              "      <th>0</th>\n",
              "      <td>2018-11-02</td>\n",
              "      <td>1089.00</td>\n",
              "      <td>1098.00</td>\n",
              "      <td>1067.66</td>\n",
              "      <td>1071.49</td>\n",
              "      <td>2172215</td>\n",
              "    </tr>\n",
              "    <tr>\n",
              "      <th>1</th>\n",
              "      <td>2018-11-01</td>\n",
              "      <td>1091.40</td>\n",
              "      <td>1099.90</td>\n",
              "      <td>1077.82</td>\n",
              "      <td>1085.98</td>\n",
              "      <td>2006575</td>\n",
              "    </tr>\n",
              "    <tr>\n",
              "      <th>2</th>\n",
              "      <td>2018-10-31</td>\n",
              "      <td>1068.20</td>\n",
              "      <td>1108.00</td>\n",
              "      <td>1068.20</td>\n",
              "      <td>1090.58</td>\n",
              "      <td>3545821</td>\n",
              "    </tr>\n",
              "    <tr>\n",
              "      <th>3</th>\n",
              "      <td>2018-10-30</td>\n",
              "      <td>1020.01</td>\n",
              "      <td>1050.90</td>\n",
              "      <td>1013.97</td>\n",
              "      <td>1049.51</td>\n",
              "      <td>2988418</td>\n",
              "    </tr>\n",
              "    <tr>\n",
              "      <th>4</th>\n",
              "      <td>2018-10-29</td>\n",
              "      <td>1096.54</td>\n",
              "      <td>1108.83</td>\n",
              "      <td>1007.20</td>\n",
              "      <td>1034.73</td>\n",
              "      <td>4064452</td>\n",
              "    </tr>\n",
              "  </tbody>\n",
              "</table>\n",
              "</div>"
            ],
            "text/plain": [
              "    timestamp     open     high      low    close   volume\n",
              "0  2018-11-02  1089.00  1098.00  1067.66  1071.49  2172215\n",
              "1  2018-11-01  1091.40  1099.90  1077.82  1085.98  2006575\n",
              "2  2018-10-31  1068.20  1108.00  1068.20  1090.58  3545821\n",
              "3  2018-10-30  1020.01  1050.90  1013.97  1049.51  2988418\n",
              "4  2018-10-29  1096.54  1108.83  1007.20  1034.73  4064452"
            ]
          },
          "metadata": {
            "tags": []
          },
          "execution_count": 3
        }
      ]
    },
    {
      "metadata": {
        "id": "CAyBLd1FkuVQ",
        "outputId": "74dccbb3-858e-4983-b5d7-31ff57630f59",
        "colab": {
          "base_uri": "https://localhost:8080/",
          "height": 204
        }
      },
      "cell_type": "code",
      "source": [
        "data.tail()"
      ],
      "execution_count": null,
      "outputs": [
        {
          "output_type": "execute_result",
          "data": {
            "text/html": [
              "<div>\n",
              "<style scoped>\n",
              "    .dataframe tbody tr th:only-of-type {\n",
              "        vertical-align: middle;\n",
              "    }\n",
              "\n",
              "    .dataframe tbody tr th {\n",
              "        vertical-align: top;\n",
              "    }\n",
              "\n",
              "    .dataframe thead th {\n",
              "        text-align: right;\n",
              "    }\n",
              "</style>\n",
              "<table border=\"1\" class=\"dataframe\">\n",
              "  <thead>\n",
              "    <tr style=\"text-align: right;\">\n",
              "      <th></th>\n",
              "      <th>timestamp</th>\n",
              "      <th>open</th>\n",
              "      <th>high</th>\n",
              "      <th>low</th>\n",
              "      <th>close</th>\n",
              "      <th>volume</th>\n",
              "    </tr>\n",
              "  </thead>\n",
              "  <tbody>\n",
              "    <tr>\n",
              "      <th>3574</th>\n",
              "      <td>2004-08-25</td>\n",
              "      <td>104.76</td>\n",
              "      <td>108.00</td>\n",
              "      <td>103.88</td>\n",
              "      <td>106.000</td>\n",
              "      <td>9188600</td>\n",
              "    </tr>\n",
              "    <tr>\n",
              "      <th>3575</th>\n",
              "      <td>2004-08-24</td>\n",
              "      <td>111.24</td>\n",
              "      <td>111.60</td>\n",
              "      <td>103.57</td>\n",
              "      <td>104.870</td>\n",
              "      <td>15247300</td>\n",
              "    </tr>\n",
              "    <tr>\n",
              "      <th>3576</th>\n",
              "      <td>2004-08-23</td>\n",
              "      <td>110.76</td>\n",
              "      <td>113.48</td>\n",
              "      <td>109.05</td>\n",
              "      <td>109.400</td>\n",
              "      <td>18256100</td>\n",
              "    </tr>\n",
              "    <tr>\n",
              "      <th>3577</th>\n",
              "      <td>2004-08-20</td>\n",
              "      <td>101.01</td>\n",
              "      <td>109.08</td>\n",
              "      <td>100.50</td>\n",
              "      <td>108.310</td>\n",
              "      <td>22834300</td>\n",
              "    </tr>\n",
              "    <tr>\n",
              "      <th>3578</th>\n",
              "      <td>2004-08-19</td>\n",
              "      <td>100.01</td>\n",
              "      <td>104.06</td>\n",
              "      <td>95.96</td>\n",
              "      <td>100.335</td>\n",
              "      <td>44659000</td>\n",
              "    </tr>\n",
              "  </tbody>\n",
              "</table>\n",
              "</div>"
            ],
            "text/plain": [
              "       timestamp    open    high     low    close    volume\n",
              "3574  2004-08-25  104.76  108.00  103.88  106.000   9188600\n",
              "3575  2004-08-24  111.24  111.60  103.57  104.870  15247300\n",
              "3576  2004-08-23  110.76  113.48  109.05  109.400  18256100\n",
              "3577  2004-08-20  101.01  109.08  100.50  108.310  22834300\n",
              "3578  2004-08-19  100.01  104.06   95.96  100.335  44659000"
            ]
          },
          "metadata": {
            "tags": []
          },
          "execution_count": 4
        }
      ]
    },
    {
      "metadata": {
        "id": "rJhypXnqkwTO"
      },
      "cell_type": "code",
      "source": [
        "data=data[data.iloc[:,0]>='2013-01-01']"
      ],
      "execution_count": null,
      "outputs": []
    },
    {
      "metadata": {
        "id": "kMUjk0-5lO6E",
        "outputId": "b7345a44-e34b-43bf-89a9-1a4a0b80eab7",
        "colab": {
          "base_uri": "https://localhost:8080/",
          "height": 204
        }
      },
      "cell_type": "code",
      "source": [
        "data.tail()"
      ],
      "execution_count": null,
      "outputs": [
        {
          "output_type": "execute_result",
          "data": {
            "text/html": [
              "<div>\n",
              "<style scoped>\n",
              "    .dataframe tbody tr th:only-of-type {\n",
              "        vertical-align: middle;\n",
              "    }\n",
              "\n",
              "    .dataframe tbody tr th {\n",
              "        vertical-align: top;\n",
              "    }\n",
              "\n",
              "    .dataframe thead th {\n",
              "        text-align: right;\n",
              "    }\n",
              "</style>\n",
              "<table border=\"1\" class=\"dataframe\">\n",
              "  <thead>\n",
              "    <tr style=\"text-align: right;\">\n",
              "      <th></th>\n",
              "      <th>timestamp</th>\n",
              "      <th>open</th>\n",
              "      <th>high</th>\n",
              "      <th>low</th>\n",
              "      <th>close</th>\n",
              "      <th>volume</th>\n",
              "    </tr>\n",
              "  </thead>\n",
              "  <tbody>\n",
              "    <tr>\n",
              "      <th>1467</th>\n",
              "      <td>2013-01-08</td>\n",
              "      <td>735.54</td>\n",
              "      <td>736.2999</td>\n",
              "      <td>724.4300</td>\n",
              "      <td>733.30</td>\n",
              "      <td>3348800</td>\n",
              "    </tr>\n",
              "    <tr>\n",
              "      <th>1468</th>\n",
              "      <td>2013-01-07</td>\n",
              "      <td>735.45</td>\n",
              "      <td>739.3800</td>\n",
              "      <td>730.5800</td>\n",
              "      <td>734.75</td>\n",
              "      <td>3308000</td>\n",
              "    </tr>\n",
              "    <tr>\n",
              "      <th>1469</th>\n",
              "      <td>2013-01-04</td>\n",
              "      <td>729.34</td>\n",
              "      <td>741.4700</td>\n",
              "      <td>727.6801</td>\n",
              "      <td>737.97</td>\n",
              "      <td>5521400</td>\n",
              "    </tr>\n",
              "    <tr>\n",
              "      <th>1470</th>\n",
              "      <td>2013-01-03</td>\n",
              "      <td>724.93</td>\n",
              "      <td>731.9300</td>\n",
              "      <td>720.7200</td>\n",
              "      <td>723.67</td>\n",
              "      <td>4631700</td>\n",
              "    </tr>\n",
              "    <tr>\n",
              "      <th>1471</th>\n",
              "      <td>2013-01-02</td>\n",
              "      <td>719.42</td>\n",
              "      <td>727.0000</td>\n",
              "      <td>716.5500</td>\n",
              "      <td>723.25</td>\n",
              "      <td>5077500</td>\n",
              "    </tr>\n",
              "  </tbody>\n",
              "</table>\n",
              "</div>"
            ],
            "text/plain": [
              "       timestamp    open      high       low   close   volume\n",
              "1467  2013-01-08  735.54  736.2999  724.4300  733.30  3348800\n",
              "1468  2013-01-07  735.45  739.3800  730.5800  734.75  3308000\n",
              "1469  2013-01-04  729.34  741.4700  727.6801  737.97  5521400\n",
              "1470  2013-01-03  724.93  731.9300  720.7200  723.67  4631700\n",
              "1471  2013-01-02  719.42  727.0000  716.5500  723.25  5077500"
            ]
          },
          "metadata": {
            "tags": []
          },
          "execution_count": 6
        }
      ]
    },
    {
      "metadata": {
        "id": "ZptdYukJmB1W",
        "outputId": "b0936232-be31-4d88-d4f7-73d455d06bff",
        "colab": {
          "base_uri": "https://localhost:8080/",
          "height": 204
        }
      },
      "cell_type": "code",
      "source": [
        "data.head()"
      ],
      "execution_count": null,
      "outputs": [
        {
          "output_type": "execute_result",
          "data": {
            "text/html": [
              "<div>\n",
              "<style scoped>\n",
              "    .dataframe tbody tr th:only-of-type {\n",
              "        vertical-align: middle;\n",
              "    }\n",
              "\n",
              "    .dataframe tbody tr th {\n",
              "        vertical-align: top;\n",
              "    }\n",
              "\n",
              "    .dataframe thead th {\n",
              "        text-align: right;\n",
              "    }\n",
              "</style>\n",
              "<table border=\"1\" class=\"dataframe\">\n",
              "  <thead>\n",
              "    <tr style=\"text-align: right;\">\n",
              "      <th></th>\n",
              "      <th>timestamp</th>\n",
              "      <th>open</th>\n",
              "      <th>high</th>\n",
              "      <th>low</th>\n",
              "      <th>close</th>\n",
              "      <th>volume</th>\n",
              "    </tr>\n",
              "  </thead>\n",
              "  <tbody>\n",
              "    <tr>\n",
              "      <th>0</th>\n",
              "      <td>2018-11-02</td>\n",
              "      <td>1089.00</td>\n",
              "      <td>1098.00</td>\n",
              "      <td>1067.66</td>\n",
              "      <td>1071.49</td>\n",
              "      <td>2172215</td>\n",
              "    </tr>\n",
              "    <tr>\n",
              "      <th>1</th>\n",
              "      <td>2018-11-01</td>\n",
              "      <td>1091.40</td>\n",
              "      <td>1099.90</td>\n",
              "      <td>1077.82</td>\n",
              "      <td>1085.98</td>\n",
              "      <td>2006575</td>\n",
              "    </tr>\n",
              "    <tr>\n",
              "      <th>2</th>\n",
              "      <td>2018-10-31</td>\n",
              "      <td>1068.20</td>\n",
              "      <td>1108.00</td>\n",
              "      <td>1068.20</td>\n",
              "      <td>1090.58</td>\n",
              "      <td>3545821</td>\n",
              "    </tr>\n",
              "    <tr>\n",
              "      <th>3</th>\n",
              "      <td>2018-10-30</td>\n",
              "      <td>1020.01</td>\n",
              "      <td>1050.90</td>\n",
              "      <td>1013.97</td>\n",
              "      <td>1049.51</td>\n",
              "      <td>2988418</td>\n",
              "    </tr>\n",
              "    <tr>\n",
              "      <th>4</th>\n",
              "      <td>2018-10-29</td>\n",
              "      <td>1096.54</td>\n",
              "      <td>1108.83</td>\n",
              "      <td>1007.20</td>\n",
              "      <td>1034.73</td>\n",
              "      <td>4064452</td>\n",
              "    </tr>\n",
              "  </tbody>\n",
              "</table>\n",
              "</div>"
            ],
            "text/plain": [
              "    timestamp     open     high      low    close   volume\n",
              "0  2018-11-02  1089.00  1098.00  1067.66  1071.49  2172215\n",
              "1  2018-11-01  1091.40  1099.90  1077.82  1085.98  2006575\n",
              "2  2018-10-31  1068.20  1108.00  1068.20  1090.58  3545821\n",
              "3  2018-10-30  1020.01  1050.90  1013.97  1049.51  2988418\n",
              "4  2018-10-29  1096.54  1108.83  1007.20  1034.73  4064452"
            ]
          },
          "metadata": {
            "tags": []
          },
          "execution_count": 7
        }
      ]
    },
    {
      "metadata": {
        "id": "ECs8pqKDmyHL"
      },
      "cell_type": "code",
      "source": [
        "train_data=data[data.iloc[:,0]<'2018-08-01']\n",
        "train_data=train_data.iloc[::-1]"
      ],
      "execution_count": null,
      "outputs": []
    },
    {
      "metadata": {
        "id": "egdiF0zMnJpZ",
        "outputId": "b757ea4d-a3a5-417e-ab3b-0264ee6278a8",
        "colab": {
          "base_uri": "https://localhost:8080/",
          "height": 204
        }
      },
      "cell_type": "code",
      "source": [
        "train_data.head()"
      ],
      "execution_count": null,
      "outputs": [
        {
          "output_type": "execute_result",
          "data": {
            "text/html": [
              "<div>\n",
              "<style scoped>\n",
              "    .dataframe tbody tr th:only-of-type {\n",
              "        vertical-align: middle;\n",
              "    }\n",
              "\n",
              "    .dataframe tbody tr th {\n",
              "        vertical-align: top;\n",
              "    }\n",
              "\n",
              "    .dataframe thead th {\n",
              "        text-align: right;\n",
              "    }\n",
              "</style>\n",
              "<table border=\"1\" class=\"dataframe\">\n",
              "  <thead>\n",
              "    <tr style=\"text-align: right;\">\n",
              "      <th></th>\n",
              "      <th>timestamp</th>\n",
              "      <th>open</th>\n",
              "      <th>high</th>\n",
              "      <th>low</th>\n",
              "      <th>close</th>\n",
              "      <th>volume</th>\n",
              "    </tr>\n",
              "  </thead>\n",
              "  <tbody>\n",
              "    <tr>\n",
              "      <th>1471</th>\n",
              "      <td>2013-01-02</td>\n",
              "      <td>719.42</td>\n",
              "      <td>727.0000</td>\n",
              "      <td>716.5500</td>\n",
              "      <td>723.25</td>\n",
              "      <td>5077500</td>\n",
              "    </tr>\n",
              "    <tr>\n",
              "      <th>1470</th>\n",
              "      <td>2013-01-03</td>\n",
              "      <td>724.93</td>\n",
              "      <td>731.9300</td>\n",
              "      <td>720.7200</td>\n",
              "      <td>723.67</td>\n",
              "      <td>4631700</td>\n",
              "    </tr>\n",
              "    <tr>\n",
              "      <th>1469</th>\n",
              "      <td>2013-01-04</td>\n",
              "      <td>729.34</td>\n",
              "      <td>741.4700</td>\n",
              "      <td>727.6801</td>\n",
              "      <td>737.97</td>\n",
              "      <td>5521400</td>\n",
              "    </tr>\n",
              "    <tr>\n",
              "      <th>1468</th>\n",
              "      <td>2013-01-07</td>\n",
              "      <td>735.45</td>\n",
              "      <td>739.3800</td>\n",
              "      <td>730.5800</td>\n",
              "      <td>734.75</td>\n",
              "      <td>3308000</td>\n",
              "    </tr>\n",
              "    <tr>\n",
              "      <th>1467</th>\n",
              "      <td>2013-01-08</td>\n",
              "      <td>735.54</td>\n",
              "      <td>736.2999</td>\n",
              "      <td>724.4300</td>\n",
              "      <td>733.30</td>\n",
              "      <td>3348800</td>\n",
              "    </tr>\n",
              "  </tbody>\n",
              "</table>\n",
              "</div>"
            ],
            "text/plain": [
              "       timestamp    open      high       low   close   volume\n",
              "1471  2013-01-02  719.42  727.0000  716.5500  723.25  5077500\n",
              "1470  2013-01-03  724.93  731.9300  720.7200  723.67  4631700\n",
              "1469  2013-01-04  729.34  741.4700  727.6801  737.97  5521400\n",
              "1468  2013-01-07  735.45  739.3800  730.5800  734.75  3308000\n",
              "1467  2013-01-08  735.54  736.2999  724.4300  733.30  3348800"
            ]
          },
          "metadata": {
            "tags": []
          },
          "execution_count": 9
        }
      ]
    },
    {
      "metadata": {
        "id": "C57eNTPqnTXK",
        "outputId": "1f1d68c8-f842-4a53-e256-a974be5849ee",
        "colab": {
          "base_uri": "https://localhost:8080/",
          "height": 204
        }
      },
      "cell_type": "code",
      "source": [
        "train_data.tail()"
      ],
      "execution_count": null,
      "outputs": [
        {
          "output_type": "execute_result",
          "data": {
            "text/html": [
              "<div>\n",
              "<style scoped>\n",
              "    .dataframe tbody tr th:only-of-type {\n",
              "        vertical-align: middle;\n",
              "    }\n",
              "\n",
              "    .dataframe tbody tr th {\n",
              "        vertical-align: top;\n",
              "    }\n",
              "\n",
              "    .dataframe thead th {\n",
              "        text-align: right;\n",
              "    }\n",
              "</style>\n",
              "<table border=\"1\" class=\"dataframe\">\n",
              "  <thead>\n",
              "    <tr style=\"text-align: right;\">\n",
              "      <th></th>\n",
              "      <th>timestamp</th>\n",
              "      <th>open</th>\n",
              "      <th>high</th>\n",
              "      <th>low</th>\n",
              "      <th>close</th>\n",
              "      <th>volume</th>\n",
              "    </tr>\n",
              "  </thead>\n",
              "  <tbody>\n",
              "    <tr>\n",
              "      <th>71</th>\n",
              "      <td>2018-07-25</td>\n",
              "      <td>1252.62</td>\n",
              "      <td>1278.24</td>\n",
              "      <td>1249.05</td>\n",
              "      <td>1275.94</td>\n",
              "      <td>2575437</td>\n",
              "    </tr>\n",
              "    <tr>\n",
              "      <th>70</th>\n",
              "      <td>2018-07-26</td>\n",
              "      <td>1267.18</td>\n",
              "      <td>1287.40</td>\n",
              "      <td>1263.00</td>\n",
              "      <td>1285.50</td>\n",
              "      <td>2734302</td>\n",
              "    </tr>\n",
              "    <tr>\n",
              "      <th>69</th>\n",
              "      <td>2018-07-27</td>\n",
              "      <td>1289.12</td>\n",
              "      <td>1291.44</td>\n",
              "      <td>1244.49</td>\n",
              "      <td>1252.89</td>\n",
              "      <td>2418090</td>\n",
              "    </tr>\n",
              "    <tr>\n",
              "      <th>68</th>\n",
              "      <td>2018-07-30</td>\n",
              "      <td>1245.05</td>\n",
              "      <td>1252.89</td>\n",
              "      <td>1224.17</td>\n",
              "      <td>1230.04</td>\n",
              "      <td>2194837</td>\n",
              "    </tr>\n",
              "    <tr>\n",
              "      <th>67</th>\n",
              "      <td>2018-07-31</td>\n",
              "      <td>1231.71</td>\n",
              "      <td>1241.21</td>\n",
              "      <td>1216.19</td>\n",
              "      <td>1227.22</td>\n",
              "      <td>1969111</td>\n",
              "    </tr>\n",
              "  </tbody>\n",
              "</table>\n",
              "</div>"
            ],
            "text/plain": [
              "     timestamp     open     high      low    close   volume\n",
              "71  2018-07-25  1252.62  1278.24  1249.05  1275.94  2575437\n",
              "70  2018-07-26  1267.18  1287.40  1263.00  1285.50  2734302\n",
              "69  2018-07-27  1289.12  1291.44  1244.49  1252.89  2418090\n",
              "68  2018-07-30  1245.05  1252.89  1224.17  1230.04  2194837\n",
              "67  2018-07-31  1231.71  1241.21  1216.19  1227.22  1969111"
            ]
          },
          "metadata": {
            "tags": []
          },
          "execution_count": 10
        }
      ]
    },
    {
      "metadata": {
        "id": "dd9vx9ImnW6T",
        "outputId": "681e94fc-ba91-4dfc-bebd-863234d1d62c",
        "colab": {
          "base_uri": "https://localhost:8080/",
          "height": 34
        }
      },
      "cell_type": "code",
      "source": [
        "train_data.shape"
      ],
      "execution_count": null,
      "outputs": [
        {
          "output_type": "execute_result",
          "data": {
            "text/plain": [
              "(1405, 6)"
            ]
          },
          "metadata": {
            "tags": []
          },
          "execution_count": 11
        }
      ]
    },
    {
      "metadata": {
        "id": "op-3zi8RnaLN"
      },
      "cell_type": "code",
      "source": [
        "test_data=data[data.iloc[:,0]>='2018-08-01']"
      ],
      "execution_count": null,
      "outputs": []
    },
    {
      "metadata": {
        "id": "lFyN8fhInihV",
        "outputId": "6160db11-6770-42c0-a2e6-f346ff2596f7",
        "colab": {
          "base_uri": "https://localhost:8080/",
          "height": 204
        }
      },
      "cell_type": "code",
      "source": [
        "test_data=test_data.iloc[::-1]\n",
        "test_data.tail()"
      ],
      "execution_count": null,
      "outputs": [
        {
          "output_type": "execute_result",
          "data": {
            "text/html": [
              "<div>\n",
              "<style scoped>\n",
              "    .dataframe tbody tr th:only-of-type {\n",
              "        vertical-align: middle;\n",
              "    }\n",
              "\n",
              "    .dataframe tbody tr th {\n",
              "        vertical-align: top;\n",
              "    }\n",
              "\n",
              "    .dataframe thead th {\n",
              "        text-align: right;\n",
              "    }\n",
              "</style>\n",
              "<table border=\"1\" class=\"dataframe\">\n",
              "  <thead>\n",
              "    <tr style=\"text-align: right;\">\n",
              "      <th></th>\n",
              "      <th>timestamp</th>\n",
              "      <th>open</th>\n",
              "      <th>high</th>\n",
              "      <th>low</th>\n",
              "      <th>close</th>\n",
              "      <th>volume</th>\n",
              "    </tr>\n",
              "  </thead>\n",
              "  <tbody>\n",
              "    <tr>\n",
              "      <th>4</th>\n",
              "      <td>2018-10-29</td>\n",
              "      <td>1096.54</td>\n",
              "      <td>1108.83</td>\n",
              "      <td>1007.20</td>\n",
              "      <td>1034.73</td>\n",
              "      <td>4064452</td>\n",
              "    </tr>\n",
              "    <tr>\n",
              "      <th>3</th>\n",
              "      <td>2018-10-30</td>\n",
              "      <td>1020.01</td>\n",
              "      <td>1050.90</td>\n",
              "      <td>1013.97</td>\n",
              "      <td>1049.51</td>\n",
              "      <td>2988418</td>\n",
              "    </tr>\n",
              "    <tr>\n",
              "      <th>2</th>\n",
              "      <td>2018-10-31</td>\n",
              "      <td>1068.20</td>\n",
              "      <td>1108.00</td>\n",
              "      <td>1068.20</td>\n",
              "      <td>1090.58</td>\n",
              "      <td>3545821</td>\n",
              "    </tr>\n",
              "    <tr>\n",
              "      <th>1</th>\n",
              "      <td>2018-11-01</td>\n",
              "      <td>1091.40</td>\n",
              "      <td>1099.90</td>\n",
              "      <td>1077.82</td>\n",
              "      <td>1085.98</td>\n",
              "      <td>2006575</td>\n",
              "    </tr>\n",
              "    <tr>\n",
              "      <th>0</th>\n",
              "      <td>2018-11-02</td>\n",
              "      <td>1089.00</td>\n",
              "      <td>1098.00</td>\n",
              "      <td>1067.66</td>\n",
              "      <td>1071.49</td>\n",
              "      <td>2172215</td>\n",
              "    </tr>\n",
              "  </tbody>\n",
              "</table>\n",
              "</div>"
            ],
            "text/plain": [
              "    timestamp     open     high      low    close   volume\n",
              "4  2018-10-29  1096.54  1108.83  1007.20  1034.73  4064452\n",
              "3  2018-10-30  1020.01  1050.90  1013.97  1049.51  2988418\n",
              "2  2018-10-31  1068.20  1108.00  1068.20  1090.58  3545821\n",
              "1  2018-11-01  1091.40  1099.90  1077.82  1085.98  2006575\n",
              "0  2018-11-02  1089.00  1098.00  1067.66  1071.49  2172215"
            ]
          },
          "metadata": {
            "tags": []
          },
          "execution_count": 13
        }
      ]
    },
    {
      "metadata": {
        "id": "ACVDz_xKnjY9"
      },
      "cell_type": "code",
      "source": [
        "training_set = train_data.iloc[:, 1:2].values\n",
        "#training_set"
      ],
      "execution_count": null,
      "outputs": []
    },
    {
      "metadata": {
        "id": "6awmX_w5QicT"
      },
      "cell_type": "code",
      "source": [
        "import numpy as np\n",
        "#training_set=np.flipud(training_set)"
      ],
      "execution_count": null,
      "outputs": []
    },
    {
      "metadata": {
        "id": "_MrpH8YooHdX"
      },
      "cell_type": "code",
      "source": [
        "real_stock_price = test_data.iloc[:, 1:2].values"
      ],
      "execution_count": null,
      "outputs": []
    },
    {
      "metadata": {
        "id": "mD93r6TConhM",
        "outputId": "333c0ce3-0374-41b5-e786-d7364ea13545",
        "colab": {
          "base_uri": "https://localhost:8080/",
          "height": 1156
        }
      },
      "cell_type": "code",
      "source": [
        "real_stock_price\n",
        "#real_stock_price=np.flipud(real_stock_price)"
      ],
      "execution_count": null,
      "outputs": [
        {
          "output_type": "execute_result",
          "data": {
            "text/plain": [
              "array([[1239.11],\n",
              "       [1218.5 ],\n",
              "       [1245.18],\n",
              "       [1241.61],\n",
              "       [1252.01],\n",
              "       [1256.72],\n",
              "       [1262.73],\n",
              "       [1259.18],\n",
              "       [1251.2 ],\n",
              "       [1252.5 ],\n",
              "       [1244.28],\n",
              "       [1241.99],\n",
              "       [1222.04],\n",
              "       [1220.66],\n",
              "       [1223.02],\n",
              "       [1214.22],\n",
              "       [1219.88],\n",
              "       [1226.  ],\n",
              "       [1244.14],\n",
              "       [1255.9 ],\n",
              "       [1255.  ],\n",
              "       [1263.4 ],\n",
              "       [1252.21],\n",
              "       [1222.52],\n",
              "       [1209.22],\n",
              "       [1198.57],\n",
              "       [1172.  ],\n",
              "       [1184.2 ],\n",
              "       [1171.1 ],\n",
              "       [1182.  ],\n",
              "       [1179.7 ],\n",
              "       [1188.  ],\n",
              "       [1177.77],\n",
              "       [1162.66],\n",
              "       [1168.96],\n",
              "       [1180.67],\n",
              "       [1194.92],\n",
              "       [1159.41],\n",
              "       [1184.25],\n",
              "       [1193.69],\n",
              "       [1200.  ],\n",
              "       [1204.09],\n",
              "       [1213.  ],\n",
              "       [1206.67],\n",
              "       [1212.  ],\n",
              "       [1205.03],\n",
              "       [1176.  ],\n",
              "       [1160.  ],\n",
              "       [1151.31],\n",
              "       [1136.4 ],\n",
              "       [1079.04],\n",
              "       [1119.64],\n",
              "       [1118.  ],\n",
              "       [1113.48],\n",
              "       [1140.  ],\n",
              "       [1130.  ],\n",
              "       [1103.71],\n",
              "       [1112.51],\n",
              "       [1091.29],\n",
              "       [1115.  ],\n",
              "       [1080.3 ],\n",
              "       [1048.33],\n",
              "       [1096.54],\n",
              "       [1020.01],\n",
              "       [1068.2 ],\n",
              "       [1091.4 ],\n",
              "       [1089.  ]])"
            ]
          },
          "metadata": {
            "tags": []
          },
          "execution_count": 17
        }
      ]
    },
    {
      "metadata": {
        "id": "yyWElzzZophx"
      },
      "cell_type": "code",
      "source": [
        "from sklearn.preprocessing import MinMaxScaler\n",
        "sc = MinMaxScaler(feature_range = (0, 1))\n",
        "training_set_scaled = sc.fit_transform(training_set)"
      ],
      "execution_count": null,
      "outputs": []
    },
    {
      "metadata": {
        "id": "fbMaG0IDpLsf",
        "outputId": "6269a999-9a01-4782-8230-4c03cf612b6e",
        "colab": {
          "base_uri": "https://localhost:8080/",
          "height": 34
        }
      },
      "cell_type": "code",
      "source": [
        "training_set_scaled.shape"
      ],
      "execution_count": null,
      "outputs": [
        {
          "output_type": "execute_result",
          "data": {
            "text/plain": [
              "(1405, 1)"
            ]
          },
          "metadata": {
            "tags": []
          },
          "execution_count": 19
        }
      ]
    },
    {
      "metadata": {
        "id": "gLGRZ89OpNrN"
      },
      "cell_type": "code",
      "source": [
        "import numpy as np\n",
        "X_train = []\n",
        "y_train = []\n",
        "for i in range(60, 1405):\n",
        "    X_train.append(training_set_scaled[i-60:i, 0])\n",
        "    y_train.append(training_set_scaled[i, 0])\n",
        "X_train, y_train = np.array(X_train), np.array(y_train)"
      ],
      "execution_count": null,
      "outputs": []
    },
    {
      "metadata": {
        "id": "YyV4CgybpQQl",
        "outputId": "4d72538b-aa81-4390-cd86-ae39fc8376e1",
        "colab": {
          "base_uri": "https://localhost:8080/",
          "height": 136
        }
      },
      "cell_type": "code",
      "source": [
        "print(X_train)"
      ],
      "execution_count": null,
      "outputs": [
        {
          "output_type": "stream",
          "text": [
            "[[0.2787512  0.28572695 0.29131007 ... 0.3978579  0.38922368 0.3858181 ]\n",
            " [0.28572695 0.29131007 0.29904542 ... 0.38922368 0.3858181  0.37444928]\n",
            " [0.29131007 0.29904542 0.29915937 ... 0.3858181  0.37444928 0.38651441]\n",
            " ...\n",
            " [0.67701423 0.66608852 0.65879627 ... 0.97705981 0.95379045 0.97222363]\n",
            " [0.66608852 0.65879627 0.70219527 ... 0.95379045 0.97222363 1.        ]\n",
            " [0.65879627 0.70219527 0.71577961 ... 0.97222363 1.         0.94420671]]\n"
          ],
          "name": "stdout"
        }
      ]
    },
    {
      "metadata": {
        "id": "dNvE7i--pVpb",
        "outputId": "8c080596-7b09-4608-9171-28608c203038",
        "colab": {
          "base_uri": "https://localhost:8080/",
          "height": 34
        }
      },
      "cell_type": "code",
      "source": [
        "print(y_train)"
      ],
      "execution_count": null,
      "outputs": [
        {
          "output_type": "stream",
          "text": [
            "[0.37444928 0.38651441 0.39780726 ... 1.         0.94420671 0.92731807]\n"
          ],
          "name": "stdout"
        }
      ]
    },
    {
      "metadata": {
        "id": "3bXtKgIOpYDL"
      },
      "cell_type": "code",
      "source": [
        "X_train = np.reshape(X_train, (X_train.shape[0], X_train.shape[1], 1))"
      ],
      "execution_count": null,
      "outputs": []
    },
    {
      "metadata": {
        "id": "_0y5qOJUpazD",
        "outputId": "037c3d8c-7397-4173-868b-13aaab6c8933",
        "colab": {
          "base_uri": "https://localhost:8080/",
          "height": 34
        }
      },
      "cell_type": "code",
      "source": [
        "\n",
        "X_train.shape"
      ],
      "execution_count": null,
      "outputs": [
        {
          "output_type": "execute_result",
          "data": {
            "text/plain": [
              "(1345, 60, 1)"
            ]
          },
          "metadata": {
            "tags": []
          },
          "execution_count": 24
        }
      ]
    },
    {
      "metadata": {
        "id": "99gifmnMpcD3"
      },
      "cell_type": "code",
      "source": [
        "from keras.models import Sequential\n",
        "from keras.layers import Dense\n",
        "from keras.layers import LSTM,GRU\n",
        "from keras.layers import Dropout\n",
        "from keras.models import Sequential\n",
        "from keras.layers.core import Dense, Dropout, Activation, Flatten\n",
        "from keras.layers.recurrent import LSTM, GRU\n",
        "from keras.layers import Convolution1D, MaxPooling1D, AtrousConvolution1D, RepeatVector\n",
        "from keras.callbacks import ModelCheckpoint, ReduceLROnPlateau, CSVLogger\n",
        "from keras.layers.wrappers import Bidirectional\n",
        "from keras import regularizers\n",
        "from keras.layers.normalization import BatchNormalization\n",
        "from keras.layers.advanced_activations import *\n",
        "from keras.optimizers import RMSprop, Adam, SGD, Nadam\n",
        "from keras.initializers import *"
      ],
      "execution_count": null,
      "outputs": []
    },
    {
      "metadata": {
        "id": "GxERB11sUPzj",
        "outputId": "5b034bff-5927-4225-ebf5-e4bea9b72aaa",
        "colab": {
          "base_uri": "https://localhost:8080/",
          "height": 34
        }
      },
      "cell_type": "code",
      "source": [
        "X_train.shape[1]"
      ],
      "execution_count": null,
      "outputs": [
        {
          "output_type": "execute_result",
          "data": {
            "text/plain": [
              "60"
            ]
          },
          "metadata": {
            "tags": []
          },
          "execution_count": 26
        }
      ]
    },
    {
      "metadata": {
        "id": "MTczkD62pyKN"
      },
      "cell_type": "code",
      "source": [
        "regressor = Sequential()"
      ],
      "execution_count": null,
      "outputs": []
    },
    {
      "metadata": {
        "id": "Kt9uvJ2Mp0hU"
      },
      "cell_type": "code",
      "source": [
        "regressor.add(Bidirectional(LSTM(units = 50, return_sequences = True,input_shape = (X_train.shape[1], 1))))\n",
        "#regressor.add(LSTM(units = 10, return_sequences = True,input_shape = (X_train.shape[1], 1)))\n",
        "regressor.add(Dropout(0.2))"
      ],
      "execution_count": null,
      "outputs": []
    },
    {
      "metadata": {
        "id": "QajPokdYp3Oh"
      },
      "cell_type": "code",
      "source": [
        "regressor.add(Bidirectional(LSTM(units = 50, return_sequences = True)))\n",
        "#regressor.add(LSTM(units = 10, return_sequences = True))\n",
        "regressor.add(Dropout(0.2))"
      ],
      "execution_count": null,
      "outputs": []
    },
    {
      "metadata": {
        "id": "94iyqcVhpyhN"
      },
      "cell_type": "code",
      "source": [
        "# adding lstm layers\n",
        "regressor.add(Bidirectional(LSTM(units = 50)))\n",
        "#regressor.add(LSTM(units = 10))\n",
        "regressor.add(Dropout(0.2))"
      ],
      "execution_count": null,
      "outputs": []
    },
    {
      "metadata": {
        "id": "dlNRRZelp90E"
      },
      "cell_type": "code",
      "source": [
        "#regressor.add(Dense(units = 1))\n",
        "regressor.add(Dense(32,kernel_initializer=\"uniform\",activation='relu'))\n",
        "regressor.add(Dense(1,kernel_initializer=\"uniform\",activation='linear'))"
      ],
      "execution_count": null,
      "outputs": []
    },
    {
      "metadata": {
        "id": "jAdjBgN1qAYD"
      },
      "cell_type": "code",
      "source": [
        "\n",
        "regressor.compile(optimizer = 'adam', loss = 'mean_squared_error')"
      ],
      "execution_count": null,
      "outputs": []
    },
    {
      "metadata": {
        "id": "1uwhJZsFqDGd",
        "outputId": "7e69abf4-6717-49a5-c7ef-ffab1a927270",
        "colab": {
          "base_uri": "https://localhost:8080/",
          "height": 3434
        }
      },
      "cell_type": "code",
      "source": [
        "regressor.fit(X_train, y_train, epochs = 100, batch_size = 256)"
      ],
      "execution_count": null,
      "outputs": [
        {
          "output_type": "stream",
          "text": [
            "Epoch 1/100\n",
            "1345/1345 [==============================] - 20s 15ms/step - loss: 0.2244\n",
            "Epoch 2/100\n",
            "1345/1345 [==============================] - 12s 9ms/step - loss: 0.1713\n",
            "Epoch 3/100\n",
            "1345/1345 [==============================] - 11s 8ms/step - loss: 0.0649\n",
            "Epoch 4/100\n",
            "1345/1345 [==============================] - 8s 6ms/step - loss: 0.0656\n",
            "Epoch 5/100\n",
            "1345/1345 [==============================] - 7s 5ms/step - loss: 0.0449\n",
            "Epoch 6/100\n",
            "1345/1345 [==============================] - 9s 7ms/step - loss: 0.0358\n",
            "Epoch 7/100\n",
            "1345/1345 [==============================] - 10s 8ms/step - loss: 0.0184\n",
            "Epoch 8/100\n",
            "1345/1345 [==============================] - 10s 7ms/step - loss: 0.0127\n",
            "Epoch 9/100\n",
            "1345/1345 [==============================] - 10s 7ms/step - loss: 0.0108\n",
            "Epoch 10/100\n",
            "1345/1345 [==============================] - 8s 6ms/step - loss: 0.0089\n",
            "Epoch 11/100\n",
            "1345/1345 [==============================] - 8s 6ms/step - loss: 0.0075\n",
            "Epoch 12/100\n",
            "1345/1345 [==============================] - 7s 5ms/step - loss: 0.0061\n",
            "Epoch 13/100\n",
            "1345/1345 [==============================] - 9s 7ms/step - loss: 0.0045\n",
            "Epoch 14/100\n",
            "1345/1345 [==============================] - 10s 7ms/step - loss: 0.0039\n",
            "Epoch 15/100\n",
            "1345/1345 [==============================] - 10s 7ms/step - loss: 0.0037\n",
            "Epoch 16/100\n",
            "1345/1345 [==============================] - 9s 7ms/step - loss: 0.0039\n",
            "Epoch 17/100\n",
            "1345/1345 [==============================] - 10s 7ms/step - loss: 0.0034\n",
            "Epoch 18/100\n",
            "1345/1345 [==============================] - 10s 7ms/step - loss: 0.0036\n",
            "Epoch 19/100\n",
            "1345/1345 [==============================] - 10s 7ms/step - loss: 0.0035\n",
            "Epoch 20/100\n",
            "1345/1345 [==============================] - 9s 7ms/step - loss: 0.0030\n",
            "Epoch 21/100\n",
            "1345/1345 [==============================] - 8s 6ms/step - loss: 0.0029\n",
            "Epoch 22/100\n",
            "1345/1345 [==============================] - 8s 6ms/step - loss: 0.0028\n",
            "Epoch 23/100\n",
            "1345/1345 [==============================] - 7s 6ms/step - loss: 0.0030\n",
            "Epoch 24/100\n",
            "1345/1345 [==============================] - 9s 7ms/step - loss: 0.0030\n",
            "Epoch 25/100\n",
            "1345/1345 [==============================] - 9s 7ms/step - loss: 0.0027\n",
            "Epoch 26/100\n",
            "1345/1345 [==============================] - 10s 7ms/step - loss: 0.0028\n",
            "Epoch 27/100\n",
            "1345/1345 [==============================] - 10s 7ms/step - loss: 0.0030\n",
            "Epoch 28/100\n",
            "1345/1345 [==============================] - 9s 7ms/step - loss: 0.0029\n",
            "Epoch 29/100\n",
            "1345/1345 [==============================] - 9s 7ms/step - loss: 0.0027\n",
            "Epoch 30/100\n",
            "1345/1345 [==============================] - 9s 7ms/step - loss: 0.0026\n",
            "Epoch 31/100\n",
            "1345/1345 [==============================] - 9s 7ms/step - loss: 0.0026\n",
            "Epoch 32/100\n",
            "1345/1345 [==============================] - 10s 7ms/step - loss: 0.0025\n",
            "Epoch 33/100\n",
            "1345/1345 [==============================] - 10s 7ms/step - loss: 0.0027\n",
            "Epoch 34/100\n",
            "1345/1345 [==============================] - 10s 7ms/step - loss: 0.0025\n",
            "Epoch 35/100\n",
            "1345/1345 [==============================] - 8s 6ms/step - loss: 0.0028\n",
            "Epoch 36/100\n",
            "1345/1345 [==============================] - 8s 6ms/step - loss: 0.0024\n",
            "Epoch 37/100\n",
            "1345/1345 [==============================] - 7s 5ms/step - loss: 0.0027\n",
            "Epoch 38/100\n",
            "1345/1345 [==============================] - 7s 6ms/step - loss: 0.0026\n",
            "Epoch 39/100\n",
            "1345/1345 [==============================] - 9s 7ms/step - loss: 0.0022\n",
            "Epoch 40/100\n",
            "1345/1345 [==============================] - 10s 7ms/step - loss: 0.0024\n",
            "Epoch 41/100\n",
            "1345/1345 [==============================] - 9s 7ms/step - loss: 0.0022\n",
            "Epoch 42/100\n",
            "1345/1345 [==============================] - 10s 7ms/step - loss: 0.0024\n",
            "Epoch 43/100\n",
            "1345/1345 [==============================] - 10s 7ms/step - loss: 0.0023\n",
            "Epoch 44/100\n",
            "1345/1345 [==============================] - 10s 7ms/step - loss: 0.0025\n",
            "Epoch 45/100\n",
            "1345/1345 [==============================] - 9s 7ms/step - loss: 0.0024\n",
            "Epoch 46/100\n",
            "1345/1345 [==============================] - 10s 7ms/step - loss: 0.0026\n",
            "Epoch 47/100\n",
            "1345/1345 [==============================] - 10s 8ms/step - loss: 0.0025\n",
            "Epoch 48/100\n",
            "1345/1345 [==============================] - 10s 8ms/step - loss: 0.0022\n",
            "Epoch 49/100\n",
            "1345/1345 [==============================] - 10s 7ms/step - loss: 0.0022\n",
            "Epoch 50/100\n",
            "1345/1345 [==============================] - 10s 7ms/step - loss: 0.0024\n",
            "Epoch 51/100\n",
            "1345/1345 [==============================] - 10s 7ms/step - loss: 0.0024\n",
            "Epoch 52/100\n",
            "1345/1345 [==============================] - 9s 7ms/step - loss: 0.0024\n",
            "Epoch 53/100\n",
            "1345/1345 [==============================] - 10s 8ms/step - loss: 0.0023\n",
            "Epoch 54/100\n",
            "1345/1345 [==============================] - 8s 6ms/step - loss: 0.0022\n",
            "Epoch 55/100\n",
            "1345/1345 [==============================] - 8s 6ms/step - loss: 0.0023\n",
            "Epoch 56/100\n",
            "1345/1345 [==============================] - 7s 5ms/step - loss: 0.0021\n",
            "Epoch 57/100\n",
            "1345/1345 [==============================] - 8s 6ms/step - loss: 0.0020\n",
            "Epoch 58/100\n",
            "1345/1345 [==============================] - 10s 7ms/step - loss: 0.0023\n",
            "Epoch 59/100\n",
            "1345/1345 [==============================] - 10s 7ms/step - loss: 0.0025\n",
            "Epoch 60/100\n",
            "1345/1345 [==============================] - 10s 7ms/step - loss: 0.0021\n",
            "Epoch 61/100\n",
            "1345/1345 [==============================] - 9s 7ms/step - loss: 0.0021\n",
            "Epoch 62/100\n",
            "1345/1345 [==============================] - 10s 7ms/step - loss: 0.0019\n",
            "Epoch 63/100\n",
            "1345/1345 [==============================] - 10s 7ms/step - loss: 0.0023\n",
            "Epoch 64/100\n",
            "1345/1345 [==============================] - 10s 8ms/step - loss: 0.0022\n",
            "Epoch 65/100\n",
            "1345/1345 [==============================] - 10s 7ms/step - loss: 0.0026\n",
            "Epoch 66/100\n",
            "1345/1345 [==============================] - 10s 7ms/step - loss: 0.0026\n",
            "Epoch 67/100\n",
            "1345/1345 [==============================] - 10s 7ms/step - loss: 0.0024\n",
            "Epoch 68/100\n",
            "1345/1345 [==============================] - 9s 7ms/step - loss: 0.0020\n",
            "Epoch 69/100\n",
            "1345/1345 [==============================] - 9s 7ms/step - loss: 0.0022\n",
            "Epoch 70/100\n",
            "1345/1345 [==============================] - 10s 7ms/step - loss: 0.0019\n",
            "Epoch 71/100\n",
            "1345/1345 [==============================] - 10s 7ms/step - loss: 0.0018\n",
            "Epoch 72/100\n",
            "1345/1345 [==============================] - 10s 7ms/step - loss: 0.0019\n",
            "Epoch 73/100\n",
            "1345/1345 [==============================] - 10s 7ms/step - loss: 0.0019\n",
            "Epoch 74/100\n",
            "1345/1345 [==============================] - 9s 7ms/step - loss: 0.0018\n",
            "Epoch 75/100\n",
            "1345/1345 [==============================] - 10s 7ms/step - loss: 0.0019\n",
            "Epoch 76/100\n",
            "1345/1345 [==============================] - 8s 6ms/step - loss: 0.0018\n",
            "Epoch 77/100\n",
            "1345/1345 [==============================] - 9s 6ms/step - loss: 0.0019\n",
            "Epoch 78/100\n",
            "1345/1345 [==============================] - 7s 5ms/step - loss: 0.0018\n",
            "Epoch 79/100\n",
            "1345/1345 [==============================] - 7s 5ms/step - loss: 0.0018\n",
            "Epoch 80/100\n",
            "1345/1345 [==============================] - 9s 7ms/step - loss: 0.0018\n",
            "Epoch 81/100\n",
            "1345/1345 [==============================] - 10s 7ms/step - loss: 0.0018\n",
            "Epoch 82/100\n",
            "1345/1345 [==============================] - 9s 7ms/step - loss: 0.0020\n",
            "Epoch 83/100\n",
            "1345/1345 [==============================] - 10s 7ms/step - loss: 0.0023\n",
            "Epoch 84/100\n",
            "1345/1345 [==============================] - 10s 7ms/step - loss: 0.0021\n",
            "Epoch 85/100\n",
            "1345/1345 [==============================] - 9s 7ms/step - loss: 0.0019\n",
            "Epoch 86/100\n",
            "1345/1345 [==============================] - 10s 7ms/step - loss: 0.0022\n",
            "Epoch 87/100\n",
            "1345/1345 [==============================] - 10s 7ms/step - loss: 0.0022\n",
            "Epoch 88/100\n",
            "1345/1345 [==============================] - 10s 7ms/step - loss: 0.0021\n",
            "Epoch 89/100\n",
            "1345/1345 [==============================] - 10s 7ms/step - loss: 0.0019\n",
            "Epoch 90/100\n",
            "1345/1345 [==============================] - 9s 7ms/step - loss: 0.0018\n",
            "Epoch 91/100\n",
            "1345/1345 [==============================] - 10s 7ms/step - loss: 0.0020\n",
            "Epoch 92/100\n",
            "1345/1345 [==============================] - 10s 8ms/step - loss: 0.0021\n",
            "Epoch 93/100\n",
            "1345/1345 [==============================] - 10s 7ms/step - loss: 0.0018\n",
            "Epoch 94/100\n",
            "1345/1345 [==============================] - 10s 7ms/step - loss: 0.0016\n",
            "Epoch 95/100\n",
            "1345/1345 [==============================] - 10s 7ms/step - loss: 0.0019\n",
            "Epoch 96/100\n",
            "1345/1345 [==============================] - 10s 7ms/step - loss: 0.0020\n",
            "Epoch 97/100\n",
            "1345/1345 [==============================] - 9s 7ms/step - loss: 0.0016\n",
            "Epoch 98/100\n",
            "1345/1345 [==============================] - 10s 8ms/step - loss: 0.0018\n",
            "Epoch 99/100\n",
            "1345/1345 [==============================] - 10s 7ms/step - loss: 0.0016\n",
            "Epoch 100/100\n",
            "1345/1345 [==============================] - 10s 7ms/step - loss: 0.0016\n"
          ],
          "name": "stdout"
        },
        {
          "output_type": "execute_result",
          "data": {
            "text/plain": [
              "<keras.callbacks.History at 0x7fd7f7482dd8>"
            ]
          },
          "metadata": {
            "tags": []
          },
          "execution_count": 33
        }
      ]
    },
    {
      "metadata": {
        "id": "noE_4CaQqFeO"
      },
      "cell_type": "code",
      "source": [
        "import pandas as pd\n",
        "dataset_total = pd.concat((train_data['open'], test_data['open']), axis = 0)"
      ],
      "execution_count": null,
      "outputs": []
    },
    {
      "metadata": {
        "id": "050Uc0DjunrT"
      },
      "cell_type": "code",
      "source": [
        "inputs = dataset_total[len(dataset_total) - len(test_data) - 60:].values\n",
        "inputs = inputs.reshape(-1,1)"
      ],
      "execution_count": null,
      "outputs": []
    },
    {
      "metadata": {
        "id": "aNJu-wvRXuG_",
        "outputId": "c3755e14-da81-414e-8403-51125875c07c",
        "colab": {
          "base_uri": "https://localhost:8080/",
          "height": 2176
        }
      },
      "cell_type": "code",
      "source": [
        "inputs"
      ],
      "execution_count": null,
      "outputs": [
        {
          "output_type": "execute_result",
          "data": {
            "text/plain": [
              "array([[1053.89],\n",
              "       [1064.62],\n",
              "       [1064.1 ],\n",
              "       [1095.  ],\n",
              "       [1100.41],\n",
              "       [1105.57],\n",
              "       [1096.9 ],\n",
              "       [1085.09],\n",
              "       [1081.46],\n",
              "       [1066.  ],\n",
              "       [1079.  ],\n",
              "       [1089.8 ],\n",
              "       [1070.  ],\n",
              "       [1086.9 ],\n",
              "       [1086.55],\n",
              "       [1076.  ],\n",
              "       [1073.48],\n",
              "       [1082.  ],\n",
              "       [1112.87],\n",
              "       [1138.5 ],\n",
              "       [1154.66],\n",
              "       [1152.77],\n",
              "       [1144.58],\n",
              "       [1131.21],\n",
              "       [1132.94],\n",
              "       [1141.02],\n",
              "       [1152.28],\n",
              "       [1152.21],\n",
              "       [1159.92],\n",
              "       [1152.69],\n",
              "       [1170.11],\n",
              "       [1183.3 ],\n",
              "       [1185.51],\n",
              "       [1171.49],\n",
              "       [1155.  ],\n",
              "       [1144.14],\n",
              "       [1136.  ],\n",
              "       [1112.39],\n",
              "       [1132.31],\n",
              "       [1115.35],\n",
              "       [1149.42],\n",
              "       [1124.6 ],\n",
              "       [1141.77],\n",
              "       [1160.  ],\n",
              "       [1169.99],\n",
              "       [1155.62],\n",
              "       [1174.86],\n",
              "       [1202.8 ],\n",
              "       [1203.81],\n",
              "       [1182.74],\n",
              "       [1208.53],\n",
              "       [1206.65],\n",
              "       [1199.24],\n",
              "       [1195.66],\n",
              "       [1271.  ],\n",
              "       [1252.62],\n",
              "       [1267.18],\n",
              "       [1289.12],\n",
              "       [1245.05],\n",
              "       [1231.71],\n",
              "       [1239.11],\n",
              "       [1218.5 ],\n",
              "       [1245.18],\n",
              "       [1241.61],\n",
              "       [1252.01],\n",
              "       [1256.72],\n",
              "       [1262.73],\n",
              "       [1259.18],\n",
              "       [1251.2 ],\n",
              "       [1252.5 ],\n",
              "       [1244.28],\n",
              "       [1241.99],\n",
              "       [1222.04],\n",
              "       [1220.66],\n",
              "       [1223.02],\n",
              "       [1214.22],\n",
              "       [1219.88],\n",
              "       [1226.  ],\n",
              "       [1244.14],\n",
              "       [1255.9 ],\n",
              "       [1255.  ],\n",
              "       [1263.4 ],\n",
              "       [1252.21],\n",
              "       [1222.52],\n",
              "       [1209.22],\n",
              "       [1198.57],\n",
              "       [1172.  ],\n",
              "       [1184.2 ],\n",
              "       [1171.1 ],\n",
              "       [1182.  ],\n",
              "       [1179.7 ],\n",
              "       [1188.  ],\n",
              "       [1177.77],\n",
              "       [1162.66],\n",
              "       [1168.96],\n",
              "       [1180.67],\n",
              "       [1194.92],\n",
              "       [1159.41],\n",
              "       [1184.25],\n",
              "       [1193.69],\n",
              "       [1200.  ],\n",
              "       [1204.09],\n",
              "       [1213.  ],\n",
              "       [1206.67],\n",
              "       [1212.  ],\n",
              "       [1205.03],\n",
              "       [1176.  ],\n",
              "       [1160.  ],\n",
              "       [1151.31],\n",
              "       [1136.4 ],\n",
              "       [1079.04],\n",
              "       [1119.64],\n",
              "       [1118.  ],\n",
              "       [1113.48],\n",
              "       [1140.  ],\n",
              "       [1130.  ],\n",
              "       [1103.71],\n",
              "       [1112.51],\n",
              "       [1091.29],\n",
              "       [1115.  ],\n",
              "       [1080.3 ],\n",
              "       [1048.33],\n",
              "       [1096.54],\n",
              "       [1020.01],\n",
              "       [1068.2 ],\n",
              "       [1091.4 ],\n",
              "       [1089.  ]])"
            ]
          },
          "metadata": {
            "tags": []
          },
          "execution_count": 36
        }
      ]
    },
    {
      "metadata": {
        "id": "Co3afBUtu05u",
        "outputId": "00e6e4fd-fc49-4f69-bd99-e2eceff12908",
        "colab": {
          "base_uri": "https://localhost:8080/",
          "height": 34
        }
      },
      "cell_type": "code",
      "source": [
        "len(inputs)"
      ],
      "execution_count": null,
      "outputs": [
        {
          "output_type": "execute_result",
          "data": {
            "text/plain": [
              "127"
            ]
          },
          "metadata": {
            "tags": []
          },
          "execution_count": 37
        }
      ]
    },
    {
      "metadata": {
        "id": "BKQioroUu749"
      },
      "cell_type": "code",
      "source": [
        "inputs = sc.transform(inputs)\n",
        "X_test = []\n",
        "for i in range(60, 127):\n",
        "    X_test.append(inputs[i-60:i, 0])\n",
        "X_test = np.array(X_test)\n",
        "X_test = np.reshape(X_test, (X_test.shape[0], X_test.shape[1], 1))\n",
        "predicted_stock_price = regressor.predict(X_test)\n",
        "predicted_stock_price = sc.inverse_transform(predicted_stock_price)"
      ],
      "execution_count": null,
      "outputs": []
    },
    {
      "metadata": {
        "id": "u9S-fy_pdDD_",
        "outputId": "7cd8fd73-1cb6-4792-aa91-042ebe795330",
        "colab": {
          "base_uri": "https://localhost:8080/",
          "height": 34
        }
      },
      "cell_type": "code",
      "source": [
        "XTest=np.reshape(X_test[0],(1,60,1))\n",
        "X_test.shape"
      ],
      "execution_count": null,
      "outputs": [
        {
          "output_type": "execute_result",
          "data": {
            "text/plain": [
              "(67, 60, 1)"
            ]
          },
          "metadata": {
            "tags": []
          },
          "execution_count": 39
        }
      ]
    },
    {
      "metadata": {
        "id": "-L56-1Y3bioV"
      },
      "cell_type": "code",
      "source": [
        "\n",
        "predicted=[]\n",
        "for i in range(30):\n",
        "\n",
        "  p=sc.inverse_transform(regressor.predict(XTest))\n",
        "  predicted.append(sc.inverse_transform(regressor.predict(XTest)))\n",
        "  XTest=np.reshape(XTest,(60))\n",
        "  XTest=np.delete(XTest,0)\n",
        "  XTest=np.append(XTest,sc.transform(p))\n",
        "  XTest=np.reshape(XTest,(1,60,1))"
      ],
      "execution_count": null,
      "outputs": []
    },
    {
      "metadata": {
        "id": "0f05T4jxcK8l"
      },
      "cell_type": "code",
      "source": [
        "predicted_stock_price_30days=np.reshape(predicted,(30,1))"
      ],
      "execution_count": null,
      "outputs": []
    },
    {
      "metadata": {
        "id": "71adl5sizQFr",
        "outputId": "90d07fa1-a2f7-4a69-ee18-7cd97729cbdd",
        "colab": {
          "base_uri": "https://localhost:8080/",
          "height": 1156
        }
      },
      "cell_type": "code",
      "source": [
        "predicted_stock_price"
      ],
      "execution_count": null,
      "outputs": [
        {
          "output_type": "execute_result",
          "data": {
            "text/plain": [
              "array([[1271.204 ],\n",
              "       [1267.218 ],\n",
              "       [1256.545 ],\n",
              "       [1255.1196],\n",
              "       [1253.6082],\n",
              "       [1256.0023],\n",
              "       [1260.0304],\n",
              "       [1265.5735],\n",
              "       [1269.2264],\n",
              "       [1269.5491],\n",
              "       [1269.7097],\n",
              "       [1267.0287],\n",
              "       [1263.6902],\n",
              "       [1254.3612],\n",
              "       [1245.5114],\n",
              "       [1238.8287],\n",
              "       [1230.785 ],\n",
              "       [1226.1332],\n",
              "       [1224.8743],\n",
              "       [1230.4735],\n",
              "       [1239.8883],\n",
              "       [1248.0004],\n",
              "       [1257.2609],\n",
              "       [1261.1976],\n",
              "       [1254.2874],\n",
              "       [1242.747 ],\n",
              "       [1228.6025],\n",
              "       [1206.1204],\n",
              "       [1190.8691],\n",
              "       [1174.5254],\n",
              "       [1165.7329],\n",
              "       [1159.3186],\n",
              "       [1158.3755],\n",
              "       [1155.3925],\n",
              "       [1148.1926],\n",
              "       [1144.5687],\n",
              "       [1146.3689],\n",
              "       [1153.8586],\n",
              "       [1148.6156],\n",
              "       [1152.2017],\n",
              "       [1158.9911],\n",
              "       [1167.2987],\n",
              "       [1175.6765],\n",
              "       [1185.4463],\n",
              "       [1191.0626],\n",
              "       [1196.6759],\n",
              "       [1198.2823],\n",
              "       [1188.854 ],\n",
              "       [1174.099 ],\n",
              "       [1157.9615],\n",
              "       [1139.3943],\n",
              "       [1104.8049],\n",
              "       [1090.0054],\n",
              "       [1080.3331],\n",
              "       [1073.8225],\n",
              "       [1079.9447],\n",
              "       [1084.5574],\n",
              "       [1081.1182],\n",
              "       [1081.496 ],\n",
              "       [1075.7113],\n",
              "       [1078.9216],\n",
              "       [1071.8083],\n",
              "       [1056.0979],\n",
              "       [1058.5428],\n",
              "       [1038.3213],\n",
              "       [1037.9524],\n",
              "       [1047.9147]], dtype=float32)"
            ]
          },
          "metadata": {
            "tags": []
          },
          "execution_count": 42
        }
      ]
    },
    {
      "metadata": {
        "id": "3Waiprj1vJWH",
        "outputId": "7fac28ae-bc2a-478b-a92a-571261b542a6",
        "colab": {
          "base_uri": "https://localhost:8080/",
          "height": 418
        }
      },
      "cell_type": "code",
      "source": [
        "import matplotlib.pyplot as plt\n",
        "plt.plot(real_stock_price, color = 'red', label = 'Real Google Stock Price')\n",
        "plt.plot(predicted_stock_price, color = 'blue', label = 'Predicted Google Stock Price - One step time series forecast')\n",
        "plt.plot(predicted_stock_price_30days, color = 'orange', label = 'Predicted Google Stock Price - Multistep time series forecast')\n",
        "plt.ylim(700,1400)\n",
        "plt.xticks(np.arange(67),test_data['timestamp'], rotation='vertical')\n",
        "plt.title('Google Stock Price Prediction')\n",
        "plt.xlabel('Time')\n",
        "plt.ylabel('Google Stock Price')\n",
        "plt.legend()\n",
        "plt.show()"
      ],
      "execution_count": null,
      "outputs": [
        {
          "output_type": "display_data",
          "data": {
            "image/png": "[encoded data removed]",
            "text/plain": [
              "<matplotlib.figure.Figure at 0x7fd7ead61c18>"
            ]
          },
          "metadata": {
            "tags": []
          }
        }
      ]
    },
    {
      "metadata": {
        "id": "ZBrsK2ky5SrI",
        "outputId": "565205ab-ab12-4301-eca6-b8b667194352",
        "colab": {
          "base_uri": "https://localhost:8080/",
          "height": 34
        }
      },
      "cell_type": "code",
      "source": [
        "real_stock_price.shape"
      ],
      "execution_count": null,
      "outputs": [
        {
          "output_type": "execute_result",
          "data": {
            "text/plain": [
              "(67, 1)"
            ]
          },
          "metadata": {
            "tags": []
          },
          "execution_count": 44
        }
      ]
    },
    {
      "metadata": {
        "id": "_03-NUDNiaXS",
        "outputId": "01fa1b22-1119-4748-c90f-b3728044b6a0",
        "colab": {
          "base_uri": "https://localhost:8080/",
          "height": 34
        }
      },
      "cell_type": "code",
      "source": [
        "from sklearn import metrics\n",
        "np.sqrt(metrics.mean_squared_error(real_stock_price,predicted_stock_price[0:67]))"
      ],
      "execution_count": null,
      "outputs": [
        {
          "output_type": "execute_result",
          "data": {
            "text/plain": [
              "30.387621720234883"
            ]
          },
          "metadata": {
            "tags": []
          },
          "execution_count": 45
        }
      ]
    },
    {
      "metadata": {
        "id": "dmFsSQkSvMo5"
      },
      "cell_type": "code",
      "source": [
        "def cal_target(df):\n",
        "    list_y =[]\n",
        "    temp = df\n",
        "    for i in range(len(temp)-1):\n",
        "        if temp[i+1] > temp[i]:\n",
        "            y = 1\n",
        "        else:\n",
        "            y = -1\n",
        "\n",
        "        list_y.append(y)\n",
        "    ydf = pd.DataFrame(list_y)\n",
        "    return ydf"
      ],
      "execution_count": null,
      "outputs": []
    },
    {
      "metadata": {
        "id": "IoNs9gq-vraT"
      },
      "cell_type": "code",
      "source": [
        "real_stock_price_trend = cal_target(real_stock_price)\n",
        "predicted_stock_price_trend =cal_target(predicted_stock_price[0:67])"
      ],
      "execution_count": null,
      "outputs": []
    },
    {
      "metadata": {
        "id": "9kSX7y2bvtsI",
        "outputId": "7ce1c6b6-6948-4076-9f58-6f6c1e8427c1",
        "colab": {
          "base_uri": "https://localhost:8080/",
          "height": 1969
        }
      },
      "cell_type": "code",
      "source": [
        "real_df = pd.DataFrame(real_stock_price_trend)\n",
        "pred_df = pd.DataFrame(predicted_stock_price_trend)\n",
        "acc_df = pd.concat((real_df[0],pred_df[0]), axis=1)\n",
        "acc_df.head(100)"
      ],
      "execution_count": null,
      "outputs": [
        {
          "output_type": "execute_result",
          "data": {
            "text/html": [
              "<div>\n",
              "<style scoped>\n",
              "    .dataframe tbody tr th:only-of-type {\n",
              "        vertical-align: middle;\n",
              "    }\n",
              "\n",
              "    .dataframe tbody tr th {\n",
              "        vertical-align: top;\n",
              "    }\n",
              "\n",
              "    .dataframe thead th {\n",
              "        text-align: right;\n",
              "    }\n",
              "</style>\n",
              "<table border=\"1\" class=\"dataframe\">\n",
              "  <thead>\n",
              "    <tr style=\"text-align: right;\">\n",
              "      <th></th>\n",
              "      <th>0</th>\n",
              "      <th>0</th>\n",
              "    </tr>\n",
              "  </thead>\n",
              "  <tbody>\n",
              "    <tr>\n",
              "      <th>0</th>\n",
              "      <td>-1</td>\n",
              "      <td>-1</td>\n",
              "    </tr>\n",
              "    <tr>\n",
              "      <th>1</th>\n",
              "      <td>1</td>\n",
              "      <td>-1</td>\n",
              "    </tr>\n",
              "    <tr>\n",
              "      <th>2</th>\n",
              "      <td>-1</td>\n",
              "      <td>-1</td>\n",
              "    </tr>\n",
              "    <tr>\n",
              "      <th>3</th>\n",
              "      <td>1</td>\n",
              "      <td>-1</td>\n",
              "    </tr>\n",
              "    <tr>\n",
              "      <th>4</th>\n",
              "      <td>1</td>\n",
              "      <td>1</td>\n",
              "    </tr>\n",
              "    <tr>\n",
              "      <th>5</th>\n",
              "      <td>1</td>\n",
              "      <td>1</td>\n",
              "    </tr>\n",
              "    <tr>\n",
              "      <th>6</th>\n",
              "      <td>-1</td>\n",
              "      <td>1</td>\n",
              "    </tr>\n",
              "    <tr>\n",
              "      <th>7</th>\n",
              "      <td>-1</td>\n",
              "      <td>1</td>\n",
              "    </tr>\n",
              "    <tr>\n",
              "      <th>8</th>\n",
              "      <td>1</td>\n",
              "      <td>1</td>\n",
              "    </tr>\n",
              "    <tr>\n",
              "      <th>9</th>\n",
              "      <td>-1</td>\n",
              "      <td>1</td>\n",
              "    </tr>\n",
              "    <tr>\n",
              "      <th>10</th>\n",
              "      <td>-1</td>\n",
              "      <td>-1</td>\n",
              "    </tr>\n",
              "    <tr>\n",
              "      <th>11</th>\n",
              "      <td>-1</td>\n",
              "      <td>-1</td>\n",
              "    </tr>\n",
              "    <tr>\n",
              "      <th>12</th>\n",
              "      <td>-1</td>\n",
              "      <td>-1</td>\n",
              "    </tr>\n",
              "    <tr>\n",
              "      <th>13</th>\n",
              "      <td>1</td>\n",
              "      <td>-1</td>\n",
              "    </tr>\n",
              "    <tr>\n",
              "      <th>14</th>\n",
              "      <td>-1</td>\n",
              "      <td>-1</td>\n",
              "    </tr>\n",
              "    <tr>\n",
              "      <th>15</th>\n",
              "      <td>1</td>\n",
              "      <td>-1</td>\n",
              "    </tr>\n",
              "    <tr>\n",
              "      <th>16</th>\n",
              "      <td>1</td>\n",
              "      <td>-1</td>\n",
              "    </tr>\n",
              "    <tr>\n",
              "      <th>17</th>\n",
              "      <td>1</td>\n",
              "      <td>-1</td>\n",
              "    </tr>\n",
              "    <tr>\n",
              "      <th>18</th>\n",
              "      <td>1</td>\n",
              "      <td>1</td>\n",
              "    </tr>\n",
              "    <tr>\n",
              "      <th>19</th>\n",
              "      <td>-1</td>\n",
              "      <td>1</td>\n",
              "    </tr>\n",
              "    <tr>\n",
              "      <th>20</th>\n",
              "      <td>1</td>\n",
              "      <td>1</td>\n",
              "    </tr>\n",
              "    <tr>\n",
              "      <th>21</th>\n",
              "      <td>-1</td>\n",
              "      <td>1</td>\n",
              "    </tr>\n",
              "    <tr>\n",
              "      <th>22</th>\n",
              "      <td>-1</td>\n",
              "      <td>1</td>\n",
              "    </tr>\n",
              "    <tr>\n",
              "      <th>23</th>\n",
              "      <td>-1</td>\n",
              "      <td>-1</td>\n",
              "    </tr>\n",
              "    <tr>\n",
              "      <th>24</th>\n",
              "      <td>-1</td>\n",
              "      <td>-1</td>\n",
              "    </tr>\n",
              "    <tr>\n",
              "      <th>25</th>\n",
              "      <td>-1</td>\n",
              "      <td>-1</td>\n",
              "    </tr>\n",
              "    <tr>\n",
              "      <th>26</th>\n",
              "      <td>1</td>\n",
              "      <td>-1</td>\n",
              "    </tr>\n",
              "    <tr>\n",
              "      <th>27</th>\n",
              "      <td>-1</td>\n",
              "      <td>-1</td>\n",
              "    </tr>\n",
              "    <tr>\n",
              "      <th>28</th>\n",
              "      <td>1</td>\n",
              "      <td>-1</td>\n",
              "    </tr>\n",
              "    <tr>\n",
              "      <th>29</th>\n",
              "      <td>-1</td>\n",
              "      <td>-1</td>\n",
              "    </tr>\n",
              "    <tr>\n",
              "      <th>...</th>\n",
              "      <td>...</td>\n",
              "      <td>...</td>\n",
              "    </tr>\n",
              "    <tr>\n",
              "      <th>36</th>\n",
              "      <td>-1</td>\n",
              "      <td>1</td>\n",
              "    </tr>\n",
              "    <tr>\n",
              "      <th>37</th>\n",
              "      <td>1</td>\n",
              "      <td>-1</td>\n",
              "    </tr>\n",
              "    <tr>\n",
              "      <th>38</th>\n",
              "      <td>1</td>\n",
              "      <td>1</td>\n",
              "    </tr>\n",
              "    <tr>\n",
              "      <th>39</th>\n",
              "      <td>1</td>\n",
              "      <td>1</td>\n",
              "    </tr>\n",
              "    <tr>\n",
              "      <th>40</th>\n",
              "      <td>1</td>\n",
              "      <td>1</td>\n",
              "    </tr>\n",
              "    <tr>\n",
              "      <th>41</th>\n",
              "      <td>1</td>\n",
              "      <td>1</td>\n",
              "    </tr>\n",
              "    <tr>\n",
              "      <th>42</th>\n",
              "      <td>-1</td>\n",
              "      <td>1</td>\n",
              "    </tr>\n",
              "    <tr>\n",
              "      <th>43</th>\n",
              "      <td>1</td>\n",
              "      <td>1</td>\n",
              "    </tr>\n",
              "    <tr>\n",
              "      <th>44</th>\n",
              "      <td>-1</td>\n",
              "      <td>1</td>\n",
              "    </tr>\n",
              "    <tr>\n",
              "      <th>45</th>\n",
              "      <td>-1</td>\n",
              "      <td>1</td>\n",
              "    </tr>\n",
              "    <tr>\n",
              "      <th>46</th>\n",
              "      <td>-1</td>\n",
              "      <td>-1</td>\n",
              "    </tr>\n",
              "    <tr>\n",
              "      <th>47</th>\n",
              "      <td>-1</td>\n",
              "      <td>-1</td>\n",
              "    </tr>\n",
              "    <tr>\n",
              "      <th>48</th>\n",
              "      <td>-1</td>\n",
              "      <td>-1</td>\n",
              "    </tr>\n",
              "    <tr>\n",
              "      <th>49</th>\n",
              "      <td>-1</td>\n",
              "      <td>-1</td>\n",
              "    </tr>\n",
              "    <tr>\n",
              "      <th>50</th>\n",
              "      <td>1</td>\n",
              "      <td>-1</td>\n",
              "    </tr>\n",
              "    <tr>\n",
              "      <th>51</th>\n",
              "      <td>-1</td>\n",
              "      <td>-1</td>\n",
              "    </tr>\n",
              "    <tr>\n",
              "      <th>52</th>\n",
              "      <td>-1</td>\n",
              "      <td>-1</td>\n",
              "    </tr>\n",
              "    <tr>\n",
              "      <th>53</th>\n",
              "      <td>1</td>\n",
              "      <td>-1</td>\n",
              "    </tr>\n",
              "    <tr>\n",
              "      <th>54</th>\n",
              "      <td>-1</td>\n",
              "      <td>1</td>\n",
              "    </tr>\n",
              "    <tr>\n",
              "      <th>55</th>\n",
              "      <td>-1</td>\n",
              "      <td>1</td>\n",
              "    </tr>\n",
              "    <tr>\n",
              "      <th>56</th>\n",
              "      <td>1</td>\n",
              "      <td>-1</td>\n",
              "    </tr>\n",
              "    <tr>\n",
              "      <th>57</th>\n",
              "      <td>-1</td>\n",
              "      <td>1</td>\n",
              "    </tr>\n",
              "    <tr>\n",
              "      <th>58</th>\n",
              "      <td>1</td>\n",
              "      <td>-1</td>\n",
              "    </tr>\n",
              "    <tr>\n",
              "      <th>59</th>\n",
              "      <td>-1</td>\n",
              "      <td>1</td>\n",
              "    </tr>\n",
              "    <tr>\n",
              "      <th>60</th>\n",
              "      <td>-1</td>\n",
              "      <td>-1</td>\n",
              "    </tr>\n",
              "    <tr>\n",
              "      <th>61</th>\n",
              "      <td>1</td>\n",
              "      <td>-1</td>\n",
              "    </tr>\n",
              "    <tr>\n",
              "      <th>62</th>\n",
              "      <td>-1</td>\n",
              "      <td>1</td>\n",
              "    </tr>\n",
              "    <tr>\n",
              "      <th>63</th>\n",
              "      <td>1</td>\n",
              "      <td>-1</td>\n",
              "    </tr>\n",
              "    <tr>\n",
              "      <th>64</th>\n",
              "      <td>1</td>\n",
              "      <td>-1</td>\n",
              "    </tr>\n",
              "    <tr>\n",
              "      <th>65</th>\n",
              "      <td>-1</td>\n",
              "      <td>1</td>\n",
              "    </tr>\n",
              "  </tbody>\n",
              "</table>\n",
              "<p>66 rows × 2 columns</p>\n",
              "</div>"
            ],
            "text/plain": [
              "    0  0\n",
              "0  -1 -1\n",
              "1   1 -1\n",
              "2  -1 -1\n",
              "3   1 -1\n",
              "4   1  1\n",
              "5   1  1\n",
              "6  -1  1\n",
              "7  -1  1\n",
              "8   1  1\n",
              "9  -1  1\n",
              "10 -1 -1\n",
              "11 -1 -1\n",
              "12 -1 -1\n",
              "13  1 -1\n",
              "14 -1 -1\n",
              "15  1 -1\n",
              "16  1 -1\n",
              "17  1 -1\n",
              "18  1  1\n",
              "19 -1  1\n",
              "20  1  1\n",
              "21 -1  1\n",
              "22 -1  1\n",
              "23 -1 -1\n",
              "24 -1 -1\n",
              "25 -1 -1\n",
              "26  1 -1\n",
              "27 -1 -1\n",
              "28  1 -1\n",
              "29 -1 -1\n",
              ".. .. ..\n",
              "36 -1  1\n",
              "37  1 -1\n",
              "38  1  1\n",
              "39  1  1\n",
              "40  1  1\n",
              "41  1  1\n",
              "42 -1  1\n",
              "43  1  1\n",
              "44 -1  1\n",
              "45 -1  1\n",
              "46 -1 -1\n",
              "47 -1 -1\n",
              "48 -1 -1\n",
              "49 -1 -1\n",
              "50  1 -1\n",
              "51 -1 -1\n",
              "52 -1 -1\n",
              "53  1 -1\n",
              "54 -1  1\n",
              "55 -1  1\n",
              "56  1 -1\n",
              "57 -1  1\n",
              "58  1 -1\n",
              "59 -1  1\n",
              "60 -1 -1\n",
              "61  1 -1\n",
              "62 -1  1\n",
              "63  1 -1\n",
              "64  1 -1\n",
              "65 -1  1\n",
              "\n",
              "[66 rows x 2 columns]"
            ]
          },
          "metadata": {
            "tags": []
          },
          "execution_count": 48
        }
      ]
    },
    {
      "metadata": {
        "id": "Tg-WiVNFvwsS",
        "outputId": "6ceae62c-3d2a-47fb-b5b8-d42aefd7a513",
        "colab": {
          "base_uri": "https://localhost:8080/",
          "height": 34
        }
      },
      "cell_type": "code",
      "source": [
        "from sklearn.metrics import accuracy_score\n",
        "score = accuracy_score(real_stock_price_trend, predicted_stock_price_trend)\n",
        "print(score)"
      ],
      "execution_count": null,
      "outputs": [
        {
          "output_type": "stream",
          "text": [
            "0.4696969696969697\n"
          ],
          "name": "stdout"
        }
      ]
    },
    {
      "metadata": {
        "id": "m5hB6W0Tvzbi",
        "outputId": "13c28ec9-664c-43d1-b941-4131c29a7fcb",
        "colab": {
          "base_uri": "https://localhost:8080/",
          "height": 170
        }
      },
      "cell_type": "code",
      "source": [
        "from sklearn.metrics import classification_report\n",
        "print(classification_report(real_stock_price_trend, predicted_stock_price_trend))"
      ],
      "execution_count": null,
      "outputs": [
        {
          "output_type": "stream",
          "text": [
            "              precision    recall  f1-score   support\n",
            "\n",
            "          -1       0.51      0.56      0.53        36\n",
            "           1       0.41      0.37      0.39        30\n",
            "\n",
            "   micro avg       0.47      0.47      0.47        66\n",
            "   macro avg       0.46      0.46      0.46        66\n",
            "weighted avg       0.46      0.47      0.47        66\n",
            "\n"
          ],
          "name": "stdout"
        }
      ]
    },
    {
      "metadata": {
        "id": "hn0-2hiKQUWS",
        "outputId": "3b737178-e277-4f34-e5c1-d75a6e26afdc",
        "colab": {
          "base_uri": "https://localhost:8080/",
          "height": 34
        }
      },
      "cell_type": "code",
      "source": [
        "from sklearn.metrics import f1_score\n",
        "f1_score(real_stock_price_trend, predicted_stock_price_trend)"
      ],
      "execution_count": null,
      "outputs": [
        {
          "output_type": "execute_result",
          "data": {
            "text/plain": [
              "0.38596491228070173"
            ]
          },
          "metadata": {
            "tags": []
          },
          "execution_count": 51
        }
      ]
    }
  ]
}